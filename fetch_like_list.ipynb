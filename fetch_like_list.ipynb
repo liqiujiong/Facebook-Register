{
 "cells": [
  {
   "cell_type": "code",
   "execution_count": 35,
   "metadata": {},
   "outputs": [
    {
     "name": "stdout",
     "output_type": "stream",
     "text": [
      "<class 'dict'>\n",
      "{'count': 10, 'cursor': 'AQHRW4tobAlPTQroxM_3RuEXYArARxgakT-5zsJxOiqiSE0HBxruoLo6_L14WX79i-52B3rWfRAEkpVcd_3u6HVORw', 'feedbackTargetID': 'ZmVlZGJhY2s6NDg3MTQ4NDIwNzM5MTYz', 'reactionID': '1635855486666999', 'scale': 1, 'id': 'ZmVlZGJhY2s6NDg3MTQ4NDIwNzM5MTYz'}\n",
      "200\n",
      "{\"data\":{\"node\":null},\"errors\":[{\"message\":\"A server error missing_required_variable_value occured. Check server logs for details.\",\"severity\":\"WARNING\"},{\"message\":\"A server error noncoercible_argument_value occured. Check server logs for details.\",\"severity\":\"CRITICAL\",\"code\":1675012,\"api_error_code\":null,\"summary\":\"Your Request Couldn't be Processed\",\"description\":\"There was a problem with this request. We're working on getting it fixed as soon as we can.\",\"description_raw\":\"There was a problem with this request. We're working on getting it fixed as soon as we can.\",\"is_silent\":false,\"is_transient\":false,\"is_not_critical\":false,\"requires_reauth\":false,\"allow_user_retry\":false,\"debug_info\":null,\"query_path\":null,\"fbtrace_id\":\"Bgke0oxm7Lr\",\"www_request_id\":\"AjY8vI0vcj_-78-5A-UqzOt\",\"path\":[\"node\"]}],\"extensions\":{\"is_final\":true}}\n"
     ]
    }
   ],
   "source": [
    "import requests\n",
    "import urllib\n",
    "import json\n",
    "\n",
    "def flatten_dict(d, parent_key='', sep='['):\n",
    "    #嵌套字典展平\n",
    "    items = []\n",
    "    for k, v in d.items():\n",
    "        new_key = f\"{parent_key}{sep}{k}]\" if parent_key else k\n",
    "        if isinstance(v, dict):\n",
    "            items.extend(flatten_dict(v, new_key, sep=sep).items())\n",
    "        else:\n",
    "            items.append((new_key, v))\n",
    "    return dict(items)\n",
    "  \n",
    "def formdata2json(formdata_payload):\n",
    "  # 原始formdata转json\n",
    "  parsed_data = urllib.parse.parse_qs(formdata_payload)\n",
    "  json_data = {}\n",
    "  for k, v in parsed_data.items():\n",
    "    data = v[0]\n",
    "    if ':' in data and data.startswith('{') and data.endswith('}'):\n",
    "      data = json.loads(data)\n",
    "    json_data[k] = data\n",
    "  return json_data\n",
    "\n",
    "\n",
    "url = \"https://www.facebook.com/api/graphql/\"\n",
    "\n",
    "payload = 'av=61559744564109&__aaid=0&__user=61559744564109&__a=1&__req=48&__hs=19964.HYP%3Acomet_pkg.2.1..2.1&dpr=1&__ccg=EXCELLENT&__rev=1016038141&__s=5yqj40%3Az8w19n%3Aph8c5b&__hsi=7408388347382165815&__dyn=7AzHK4HwkEng5K8G6EjBAg5S3G2O5U4e2C17xt3odE98K360CEboG0x8bo6u3y4o2Gwn82nwb-q7oc81xoswMwto886C11wBz83WwgEcEhwGxu782lwv89kbxS1Fwc61awkovwRwlE-U2exi4UaEW2G1jwUBwJK14xm3y11xfxmu3W3iU8o4Wm7-2K1yw9q2-VEbUGdwb6223908O3216xi4UK2K364UrwFg2fwxyo566k1FwgU4q3G1eKufxa3mUqwjVqwLwHw&__csr=gmgpgZ1b3idHYZnkvli9jd88jYlPERhifH48BY9N4hmN5hrtdHtsJOsyB9bQAL_SO9iyeHniQi9YBnVaA_HoGcykKHSih5haBKl2pdvXhFGhF4BLAjLQuFpBUOml1h1e-mvgV2bLzUKq6EpxmcwJxmmmmrKfmuaK9DzUSim6UXzu364u5FEO6UiwyK26i6Upzo9UeUhw863ubG1iwHxeewdW3q1Gwp8vwWwrE3kwEg-2m0wofE3hK1yw2BU3mw2go1SU0-Om4qwjGw3x804iO00ZBVU0Jqaw6uw5Uwje0fhxq0xo0qAwVw4Tw1V602Me011Cg0clU2tw5fw7_K6E0z6049o&__comet_req=15&fb_dtsg=NAcM1Fm2xTd7YKx0vOMeHkOD8AVclzBU5rzr836LQ3nS3pv6CvO8TvA%3A45%3A1724669966&jazoest=25320&lsd=mkP0LYqpXo7Q2cOeNuz_8L&__spin_r=1016038141&__spin_b=trunk&__spin_t=1724899827&fb_api_caller_class=RelayModern&fb_api_req_friendly_name=CometUFIReactionsDialogTabContentRefetchQuery&variables=%7B%22count%22%3A10%2C%22cursor%22%3A%22AQHRW4tobAlPTQroxM_3RuEXYArARxgakT-5zsJxOiqiSE0HBxruoLo6_L14WX79i-52B3rWfRAEkpVcd_3u6HVORw%22%2C%22feedbackTargetID%22%3A%22ZmVlZGJhY2s6NDg3MTQ4NDIwNzM5MTYz%22%2C%22reactionID%22%3A%221635855486666999%22%2C%22scale%22%3A1%2C%22id%22%3A%22ZmVlZGJhY2s6NDg3MTQ4NDIwNzM5MTYz%22%7D&server_timestamps=true&doc_id=7443538865752313'\n",
    "\n",
    "payload_data = formdata2json(payload)\n",
    "\n",
    "headers = {\n",
    "  'accept': '*/*',\n",
    "  'accept-language': 'en,zh-CN;q=0.9,zh;q=0.8',\n",
    "  'content-type': 'application/x-www-form-urlencoded',\n",
    "  'cookie': 'datr=kqJdZU14v30qBw510RxipV7P; sb=YqNdZZ0UkMAMYVisGbcv8X5n; ps_n=1; ps_l=1; ar_debug=1; c_user=61559744564109; xs=45%3Ago9n1hPOiv_gRQ%3A2%3A1724669966%3A-1%3A-1%3A%3AAcVYIoP6zXF_PtHIyaVpm-MxrYgr5msz725KRXQmeA; wd=1920x945; fr=1uDxhp7xAwElat4af.AWX_adRXZ-UlWrTn-2Vq259SM_w.Bmz9y4..AAA.0.0.Bmz-P_.AWW-gu7OQXM; presence=C%7B%22t3%22%3A%5B%5D%2C%22utc3%22%3A1724900519621%2C%22v%22%3A1%7D; usida=eyJ2ZXIiOjEsImlkIjoiQXNpeWxkdDE2M25iMmgiLCJ0aW1lIjoxNzI0OTAwOTkwfQ%3D%3D',\n",
    "  'origin': 'https://www.facebook.com',\n",
    "  'priority': 'u=1, i',\n",
    "  'referer': 'https://www.facebook.com/search/top?q=h5%20game',\n",
    "  'sec-ch-prefers-color-scheme': 'light',\n",
    "  'sec-ch-ua': '\"Not)A;Brand\";v=\"99\", \"Google Chrome\";v=\"127\", \"Chromium\";v=\"127\"',\n",
    "  'sec-ch-ua-full-version-list': '\"Not)A;Brand\";v=\"99.0.0.0\", \"Google Chrome\";v=\"127.0.6533.100\", \"Chromium\";v=\"127.0.6533.100\"',\n",
    "  'sec-ch-ua-mobile': '?0',\n",
    "  'sec-ch-ua-model': '\"\"',\n",
    "  'sec-ch-ua-platform': '\"Windows\"',\n",
    "  'sec-ch-ua-platform-version': '\"15.0.0\"',\n",
    "  'sec-fetch-dest': 'empty',\n",
    "  'sec-fetch-mode': 'cors',\n",
    "  'sec-fetch-site': 'same-origin',\n",
    "  'user-agent': 'Mozilla/5.0 (Windows NT 10.0; Win64; x64) AppleWebKit/537.36 (KHTML, like Gecko) Chrome/127.0.0.0 Safari/537.36',\n",
    "  'x-asbd-id': '129477',\n",
    "  'x-fb-friendly-name': 'CometUFIReactionsDialogTabContentRefetchQuery',\n",
    "  'x-fb-lsd': 'mkP0LYqpXo7Q2cOeNuz_8L'\n",
    "}\n",
    "\n",
    "print(type(payload_data['variables']))\n",
    "print(payload_data['variables'])\n",
    "response = requests.request(\"POST\", url, headers=headers, data=flatten_dict(payload_data))\n",
    "# \n",
    "print(response.status_code)\n",
    "print(response.text)\n"
   ]
  }
 ],
 "metadata": {
  "kernelspec": {
   "display_name": ".env",
   "language": "python",
   "name": "python3"
  },
  "language_info": {
   "codemirror_mode": {
    "name": "ipython",
    "version": 3
   },
   "file_extension": ".py",
   "mimetype": "text/x-python",
   "name": "python",
   "nbconvert_exporter": "python",
   "pygments_lexer": "ipython3",
   "version": "3.10.9"
  }
 },
 "nbformat": 4,
 "nbformat_minor": 2
}
