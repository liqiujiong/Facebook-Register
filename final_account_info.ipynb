{
 "cells": [
  {
   "cell_type": "code",
   "execution_count": null,
   "metadata": {},
   "outputs": [],
   "source": [
    "# 完善：\n",
    "# - 获取个人主页account_id --> 保存数据库\n",
    "# - 添加2fa验证 --> 保存数据库\n",
    "# - 添加邮箱 --> 保存数据库\n",
    "#   - 获取可用邮箱数据\n",
    "#   - 读取邮件\n",
    "#   - 提交验证\n",
    "# - 完善资料\n",
    "#   - 完善头像\n",
    "#   - 完善主页\n",
    "\n"
   ]
  },
  {
   "cell_type": "code",
   "execution_count": null,
   "metadata": {},
   "outputs": [],
   "source": [
    "\n",
    "from selenium import webdriver\n",
    "from selenium.common.exceptions import TimeoutException\n",
    "from selenium.webdriver.common.keys import Keys\n",
    "from selenium.webdriver.chrome.options import Options\n",
    "from selenium.webdriver.common.desired_capabilities import DesiredCapabilities\n",
    "from selenium.webdriver.chrome.service import Service\n",
    "from selenium.webdriver.support.ui import WebDriverWait\n",
    "from selenium.webdriver.common.by import By\n",
    "from selenium.webdriver.support import expected_conditions as EC\n",
    "from selenium.webdriver.support.ui import Select\n",
    "\n",
    "from tools.bit_api import openBrowser\n",
    "\n",
    "def _connect_selenium(browser_id):\n",
    "    \n",
    "    open_res = openBrowser(browser_id)\n",
    "    print(open_res['data'])\n",
    "    driverPath = open_res['data']['driver']\n",
    "    debuggerAddress = open_res['data']['http']\n",
    "    print(driverPath)\n",
    "    \n",
    "    chrome_options = webdriver.ChromeOptions()\n",
    "    chrome_options.add_experimental_option(\"debuggerAddress\", debuggerAddress)\n",
    "\n",
    "    chrome_service = Service(driverPath)\n",
    "    driver = webdriver.Chrome(service=chrome_service, options=chrome_options)\n",
    "    return driver"
   ]
  },
  {
   "cell_type": "code",
   "execution_count": null,
   "metadata": {},
   "outputs": [],
   "source": [
    "from tools.bit_api import fetchBrowserDetail, openBrowser\n",
    "from tools.selenium_driver_helper import SeleniumDriverHelper\n",
    "\n",
    "browser_id = 'aa855a11b1af4348af2158b50ff1f766'\n",
    "\n",
    "# self.logger.info(f'open driver[{browser_id}]-->{self.win_name}')\n",
    "driver = _connect_selenium(browser_id)\n",
    "# open_res = fetchBrowserDetail(browser_id)\n",
    "\n",
    "helper = SeleniumDriverHelper(driver)"
   ]
  },
  {
   "cell_type": "code",
   "execution_count": null,
   "metadata": {},
   "outputs": [],
   "source": [
    "def fetch_account_id(driver):\n",
    "    driver.get('https://www.facebook.com/profile.php')\n",
    "    if '?id=' in driver.current_url:\n",
    "        return driver.current_url.split('=')[-1]\n",
    "    else:\n",
    "        return None\n",
    "account_id = fetch_account_id(driver)\n",
    "print(account_id)\n"
   ]
  },
  {
   "cell_type": "code",
   "execution_count": null,
   "metadata": {},
   "outputs": [],
   "source": [
    "\n",
    "import time\n",
    "from tools.sercury import get_2fa_code\n",
    "# 添加2FA\n",
    "def _open_2fa_bind(driver):\n",
    "    # url = 'https://accountscenter.facebook.com/password_and_security'\n",
    "    url = 'https://accountscenter.facebook.com/password_and_security/two_factor/'\n",
    "    driver.get(url)\n",
    "\n",
    "def _click_2fa_account():\n",
    "    点击用户xpath = '/html/body/div[1]/div/div[1]/div/div[3]/div/div/div[2]/div/div/div/div/div/div/div/div[3]/div[2]/div[4]/div/div/div[2]/div/div/div[1]'\n",
    "    res = helper.find_or_fail(By.XPATH,点击用户xpath)\n",
    "    res.click()\n",
    "    time.sleep(2)\n",
    "\n",
    "def _2fa_checkout_password(password):\n",
    "    res = helper.find_or_fail(By.XPATH, '//input[@type=\"password\"]')\n",
    "    res.send_keys(password)\n",
    "\n",
    "    密码确认按钮xpath = '/html/body/div[6]/div[1]/div/div[2]/div/div/div/div/div/div/div[4]/div[3]/div/div/div/div/div/div'\n",
    "    time.sleep(2)\n",
    "    res = helper.find_or_fail(By.XPATH,密码确认按钮xpath)\n",
    "    res.click()\n",
    "    time.sleep(2)\n",
    "\n",
    "def _fetch_2fa_key() -> str:\n",
    "    \n",
    "    选择密保方式继续按钮xpath = '/html/body/div[1]/div/div[1]/div/div[3]/div/div/div[2]/div/div/div/div/div/div[2]/div/div[4]/div[3]/div/div/div/div/div/div/div/div'\n",
    "    res = helper.find_or_fail(By.XPATH,选择密保方式继续按钮xpath)\n",
    "    res.click()\n",
    "    \n",
    "    time.sleep(10)\n",
    "    \n",
    "    令牌密钥xpath = '/html/body/div[1]/div/div[1]/div/div[3]/div/div/div[2]/div/div/div/div/div/div[3]/div/div[3]/div[2]/div[4]/div/div/div[4]/div/div[2]/div/div/div[1]/span'\n",
    "    res = helper.find_or_fail(By.XPATH,令牌密钥xpath)\n",
    "    otp_key = res.text\n",
    "    \n",
    "    令牌密钥下一步按钮xpath = '/html/body/div[1]/div/div[1]/div/div[3]/div/div/div[2]/div/div/div/div/div/div[3]/div/div[4]/div[3]/div/div/div/div/div'\n",
    "    res = helper.find_or_fail(By.XPATH,令牌密钥下一步按钮xpath)\n",
    "    res.click()\n",
    "    \n",
    "    time.sleep(2)\n",
    "    return otp_key\n",
    "\n",
    "def _check_2fa_code(code):\n",
    "    input_elements = helper.find_or_fail(By.XPATH, '//input[@type=\"text\"]')\n",
    "    input_elements.send_keys(code)\n",
    "    time.sleep(3)\n",
    "    令牌确认下一步按钮xpath = '/html/body/div[1]/div/div[1]/div/div[3]/div/div/div[2]/div/div/div/div/div/div[4]/div/div[4]/div[3]/div/div/div/div/div/div/div/div'\n",
    "    res = helper.find_or_fail(By.XPATH,令牌确认下一步按钮xpath)\n",
    "    res.click()\n",
    "\n"
   ]
  },
  {
   "cell_type": "code",
   "execution_count": null,
   "metadata": {},
   "outputs": [],
   "source": [
    "_open_2fa_bind(driver)"
   ]
  },
  {
   "cell_type": "code",
   "execution_count": null,
   "metadata": {},
   "outputs": [],
   "source": [
    "\n",
    "_click_2fa_account()\n"
   ]
  },
  {
   "cell_type": "code",
   "execution_count": null,
   "metadata": {},
   "outputs": [],
   "source": [
    "\n",
    "password = 'wDRHzyuk0EPJy8M'\n",
    "_2fa_checkout_password(password)"
   ]
  },
  {
   "cell_type": "code",
   "execution_count": null,
   "metadata": {},
   "outputs": [],
   "source": [
    "\n",
    "otp_key = _fetch_2fa_key()\n",
    "print(otp_key)"
   ]
  },
  {
   "cell_type": "code",
   "execution_count": null,
   "metadata": {},
   "outputs": [],
   "source": [
    "\n",
    "otp_code = get_2fa_code(otp_code=otp_key)\n",
    "print(otp_code)\n",
    "_check_2fa_code(otp_code)"
   ]
  },
  {
   "cell_type": "code",
   "execution_count": null,
   "metadata": {},
   "outputs": [],
   "source": [
    "def _open_gmail_bind():\n",
    "    url = 'https://accountscenter.facebook.com/personal_info/contact_points/'\n",
    "    driver.get(url)\n",
    "\n",
    "def _send_gmail_code(gmail):\n",
    "    \n",
    "    # 发送gmail验证码\n",
    "    新增联络资料xpath = '/html/body/div[1]/div/div[1]/div/div[3]/div/div/div[2]/div/div/div/div/div/div/div/div[3]/div[2]/div[4]/div/div/div[2]/div/div/div/div/div[2]/div[1]'\n",
    "    res = helper.find_or_fail(By.XPATH,新增联络资料xpath)\n",
    "    res.click()\n",
    "    新增电子邮件xpath = '/html/body/div[1]/div/div[1]/div/div[3]/div/div/div[2]/div/div/div/div/div/div/div/div[3]/div[2]/div[4]/div/div/div[2]/div[2]/div/div/div/div[2]/div[1]'\n",
    "    res = helper.find_or_fail(By.XPATH,新增电子邮件xpath)\n",
    "    res.click()\n",
    "    input_elements = helper.find_or_fail(By.XPATH, '//input[@type=\"text\"]')\n",
    "    input_elements.send_keys(gmail)\n",
    "    res = helper.find_or_fail(By.NAME,'noform')\n",
    "    res.click()\n",
    "    继续xpath = '/html/body/div[1]/div/div[1]/div/div[3]/div/div/div[2]/div/div/div/div/div/div/div/div[4]/div[3]/div/div/div/div/div/div/div/div'\n",
    "    res = helper.find_or_fail(By.XPATH,继续xpath)\n",
    "    res.click()\n",
    "\n",
    "\n",
    "def _input_gmail_code(gmail_code):\n",
    "    \n",
    "    input_elements = helper.find_or_fail(By.XPATH, '//input[@type=\"text\"]', return_elements=True)\n",
    "    input_elements[1].send_keys(gmail_code)\n",
    "    \n",
    "    继续xpath = '/html/body/div[1]/div/div[1]/div/div[3]/div/div/div[2]/div/div/div/div/div/div[2]/div/div[4]/div[3]/div/div/div'\n",
    "    res = helper.find_or_fail(By.XPATH,继续xpath)\n",
    "    res.click()"
   ]
  }
 ],
 "metadata": {
  "kernelspec": {
   "display_name": ".env",
   "language": "python",
   "name": "python3"
  },
  "language_info": {
   "codemirror_mode": {
    "name": "ipython",
    "version": 3
   },
   "file_extension": ".py",
   "mimetype": "text/x-python",
   "name": "python",
   "nbconvert_exporter": "python",
   "pygments_lexer": "ipython3",
   "version": "3.10.9"
  }
 },
 "nbformat": 4,
 "nbformat_minor": 2
}
