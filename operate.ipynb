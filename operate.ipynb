{
 "cells": [
  {
   "cell_type": "code",
   "execution_count": 2,
   "metadata": {},
   "outputs": [
    {
     "name": "stdout",
     "output_type": "stream",
     "text": [
      "C:\\Users\\lqj\\AppData\\Roaming\\BitBrowser\\chromedriver\\126\\chromedriver.exe\n",
      "127.0.0.1:64754\n",
      "{'id': '6875eea406de409a8449b16e2e79a54d', 'seq': 78, 'code': '20240723150758833', 'groupId': '2c9bc04790aae7ca0190b5cb34182ea7', 'platform': '', 'platformIcon': '', 'url': 'https%3A%2F%2Fwww.google.com%2F,https%3A%2F%2Fwww.facebook.com%2Fmessages%2Ft', 'name': '61563533240642-收1消息', 'userName': '', 'password': '', 'cookie': '[{\"name\":\"sb\",\"value\":\"2lafZsgD4n0g3eqR9JQRfoBt\",\"domain\":\".facebook.com\",\"path\":\"/\",\"expires\":1753515742,\"httpOnly\":true,\"secure\":true,\"session\":false,\"sameSite\":\"None\",\"sameParty\":false},{\"name\":\"datr\",\"value\":\"2lafZlx2M5XyXcrt1Z_zON4U\",\"domain\":\".facebook.com\",\"path\":\"/\",\"expires\":1753515742,\"httpOnly\":true,\"secure\":true,\"session\":false,\"sameSite\":\"None\",\"sameParty\":false},{\"name\":\"locale\",\"value\":\"zh_HK\",\"domain\":\".facebook.com\",\"path\":\"/\",\"expires\":1753515742,\"httpOnly\":false,\"secure\":true,\"session\":false,\"sameSite\":\"None\",\"sameParty\":false},{\"name\":\"c_user\",\"value\":\"61563533240642\",\"domain\":\".facebook.com\",\"path\":\"/\",\"expires\":1753515742,\"httpOnly\":false,\"secure\":true,\"session\":false,\"sameSite\":\"None\",\"sameParty\":false},{\"name\":\"AEC\",\"value\":\"AVYB7cpnrI03pawUoMf9cNpAmuEUC1I7rujoYYuNMrHP29AHGY7oRi5t7w\",\"domain\":\".google.com\",\"path\":\"/\",\"expires\":1753515742,\"httpOnly\":true,\"secure\":true,\"session\":false,\"sameSite\":\"Lax\",\"sameParty\":false},{\"name\":\"NID\",\"value\":\"516=T6hva-cJ7vMf0BDRADiDIv8Vh9iM6pcEBxTgztotVbJMqbr5DvYDPg3QDn9Zfa7Tjt-ys4NBR0DvRxW9Xs-6aLkNq6z1Q4eAgG6nqRziH0nGlJj1RmUx2G8nPcsE35UMOdPNx5aoA5DndiyzLxE_1sLFsOvRKbeWlND8lQaV33qwRiU-FUh8SYH4zrbADZhpf-yIyvM3XnI\",\"domain\":\".google.com\",\"path\":\"/\",\"expires\":1753515742,\"httpOnly\":true,\"secure\":true,\"session\":false,\"sameSite\":\"None\",\"sameParty\":false},{\"name\":\"HMACCOUNT_BFESS\",\"value\":\"B5B43A0CCA34FD2B\",\"domain\":\".hm.baidu.com\",\"path\":\"/\",\"expires\":1753515742,\"httpOnly\":false,\"secure\":true,\"session\":false,\"sameSite\":\"None\",\"sameParty\":false},{\"name\":\"Hm_lvt_f4f76646cd877e538aa1fbbdf351c548\",\"value\":\"1721975290\",\"domain\":\".ip138.com\",\"path\":\"/\",\"expires\":1753515742,\"httpOnly\":false,\"secure\":false,\"session\":false,\"sameParty\":false},{\"name\":\"Hm_lpvt_f4f76646cd877e538aa1fbbdf351c548\",\"value\":\"1721975290\",\"domain\":\".ip138.com\",\"path\":\"/\",\"expires\":1753515742,\"httpOnly\":false,\"secure\":false,\"session\":false,\"sameParty\":false},{\"name\":\"HMACCOUNT\",\"value\":\"B5B43A0CCA34FD2B\",\"domain\":\".ip138.com\",\"path\":\"/\",\"expires\":1753515742,\"httpOnly\":false,\"secure\":false,\"session\":false,\"sameParty\":false},{\"name\":\"fr\",\"value\":\"1TgwVeaK3TQMl9kWB.AWWUuSAPeCrwlik6_qflqWQVO5w.Bmo0QF..AAA.0.0.Bmo0QF.AWViqbubtf0\",\"domain\":\".facebook.com\",\"path\":\"/\",\"expires\":1753515742,\"httpOnly\":true,\"secure\":true,\"session\":false,\"sameSite\":\"None\",\"sameParty\":false},{\"name\":\"xs\",\"value\":\"6%3ACqSPIZw3wiccxQ%3A2%3A1721718601%3A-1%3A-1%3A%3AAcU4vULyQ5VFzd9xs_ikW5wfnHz6wS6rvyID7lYuQoI\",\"domain\":\".facebook.com\",\"path\":\"/\",\"expires\":1753515742,\"httpOnly\":true,\"secure\":true,\"session\":false,\"sameSite\":\"None\",\"sameParty\":false},{\"name\":\"wd\",\"value\":\"1264x625\",\"domain\":\".facebook.com\",\"path\":\"/\",\"expires\":1753515742,\"httpOnly\":false,\"secure\":true,\"session\":false,\"sameSite\":\"Lax\",\"sameParty\":false},{\"name\":\"presence\",\"value\":\"C%7B%22t3%22%3A%5B%5D%2C%22utc3%22%3A1721975933512%2C%22v%22%3A1%7D\",\"domain\":\".facebook.com\",\"path\":\"/\",\"expires\":1753515742,\"httpOnly\":false,\"secure\":true,\"session\":true,\"sameParty\":false}]', 'otherCookie': '', 'isGlobalProxyInfo': False, 'isIpv6': False, 'proxyMethod': 2, 'proxyType': 'socks5', 'agentId': '', 'ipCheckService': 'ip123in', 'host': 'pr.aa4koj1o.lunaproxy.net', 'port': 12233, 'proxyUserName': 'user-lu7069006-region-hk-sessid-hGr9jQ3119VjrPm-sesstime-30', 'proxyPassword': 'B8#U&E*asjXRg$', 'lastIp': '180.219.55.218', 'lastCountry': '香港(HK)', 'isIpNoChange': False, 'ip': '', 'country': '', 'province': '', 'city': '', 'dynamicIpChannel': 'common', 'dynamicIpUrl': '', 'isDynamicIpChangeIp': True, 'remark': '17041031505,雅雯,袁,1999,10,27,YuCA0mrYG1O69wx', 'status': 0, 'operUserName': '', 'operTime': '2024-07-26 14:38:47', 'closeTime': '2024-07-26 15:42:24', 'isDelete': 0, 'delReason': '', 'isMostCommon': 0, 'isRemove': 0, 'tempStr': None, 'createdBy': '2c9bc061908cc3290190905e2cb41ac7', 'userId': '2c9bc061908cc3290190905e2cb41ac7', 'createdTime': '2024-07-23 15:07:59', 'updateBy': '2c9bc061908cc3290190905e2cb41ac7', 'updateTime': '2024-07-23 16:11:25', 'recycleBinRemark': '', 'mainUserId': '2c9bc061908cc3290190905e2cb41ac7', 'abortImage': False, 'abortMedia': False, 'stopWhileNetError': False, 'stopWhileCountryChange': False, 'syncTabs': True, 'syncCookies': True, 'syncIndexedDb': False, 'syncBookmarks': False, 'syncAuthorization': False, 'syncHistory': False, 'syncGoogleAccount': True, 'allowedSignin': False, 'syncSessions': False, 'workbench': 'localserver', 'clearCacheFilesBeforeLaunch': False, 'clearCookiesBeforeLaunch': False, 'clearHistoriesBeforeLaunch': False, 'randomFingerprint': False, 'muteAudio': False, 'disableGpu': False, 'enableBackgroundMode': False, 'abortImageMaxSize': None, 'syncExtensions': False, 'syncUserExtensions': False, 'syncLocalStorage': False, 'credentialsEnableService': False, 'disableTranslatePopup': False, 'stopWhileIpChange': False, 'disableClipboard': False, 'disableNotifications': False, 'groupName': '新注册', 'browserFingerPrint': {'id': 'db0ef247b8ff464597b52c53f1ebd364', 'seq': 78, 'coreVersion': '126', 'browserId': '6875eea406de409a8449b16e2e79a54d', 'ostype': 'PC', 'os': 'Win32', 'architecture': 'x86', 'osVersion': '10', 'platformVersion': '10.0.0', 'version': '125', 'userAgent': 'Mozilla/5.0 (Windows NT 10.0; Win64; x64) AppleWebKit/537.36 (KHTML, like Gecko) Chrome/125.0.6422.76 Safari/537.36', 'isIpCreateTimeZone': True, 'timeZone': '', 'timeZoneOffset': 0, 'ignoreHttpsErrors': False, 'webRTC': '3', 'position': '1', 'isIpCreatePosition': True, 'isIpCreateDisplayLanguage': False, 'displayLanguages': '', 'isIpCreateLanguage': True, 'resolutionType': '0', 'resolution': '1920 x 1080', 'openWidth': 1280, 'openHeight': 720, 'fontType': '2', 'font': 'Snell Roundhand,Futura,System Bold,Myanmar Tet,Devanagari MT,Microsoft Himalaya Regular,Herculanum,Microsoft YaHei Light,Modern Regular,Trattatello', 'canvas': '0', 'canvasValue': '807579', 'webGL': '0', 'webGLValue': '918784', 'webGLMeta': '0', 'webGLManufacturer': 'Google Inc. (Intel)', 'webGLRender': 'ANGLE (Intel, Intel(R) HD Graphics 4600 Direct3D11 vs_5_0 ps_5_0, D3D11-10.18.10.3907)', 'audioContext': '0', 'audioContextValue': '17', 'mediaDevice': '1', 'speechVoices': '0', 'speechVoicesValue': '[{\"name\":\"Microsoft Grace Online (Natural) - Maltese (Malta)\",\"default\":false,\"lang\":\"mt-MT\",\"is_remote\":false,\"voice_uri\":\"Microsoft Grace Online (Natural) - Maltese (Malta)\"},{\"name\":\"Microsoft Sylvie Online (Natural) - French (Canada)\",\"default\":false,\"lang\":\"fr-CA\",\"is_remote\":false,\"voice_uri\":\"Microsoft Sylvie Online (Natural) - French (Canada)\"},{\"name\":\"Microsoft Ubax Online (Natural) - Somali (Somalia)\",\"default\":false,\"lang\":\"so-SO\",\"is_remote\":false,\"voice_uri\":\"Microsoft Ubax Online (Natural) - Somali (Somalia)\"},{\"name\":\"Microsoft Huihui - Chinese (Simplified, PRC)\",\"default\":true,\"lang\":\"zh-CN\",\"is_remote\":false,\"voice_uri\":\"Microsoft Huihui - Chinese (Simplified, PRC)\"},{\"name\":\"Microsoft Kangkang - Chinese (Simplified, PRC)\",\"default\":false,\"lang\":\"zh-CN\",\"is_remote\":false,\"voice_uri\":\"Microsoft Kangkang - Chinese (Simplified, PRC)\"},{\"name\":\"Microsoft Yaoyao - Chinese (Simplified, PRC)\",\"default\":false,\"lang\":\"zh-CN\",\"is_remote\":false,\"voice_uri\":\"Microsoft Yaoyao - Chinese (Simplified, PRC)\"},{\"name\":\"Google 普通话（中国大陆）\",\"default\":false,\"lang\":\"zh-CN\",\"is_remote\":true,\"voice_uri\":\"Google 普通话（中国大陆）\"},{\"name\":\"Google 粤語（香港）\",\"default\":false,\"lang\":\"zh-HK\",\"is_remote\":true,\"voice_uri\":\"Google 粤語（香港）\"},{\"name\":\"Google 國語（臺灣）\",\"default\":false,\"lang\":\"zh-TW\",\"is_remote\":true,\"voice_uri\":\"Google 國語（臺灣）\"},{\"name\":\"Google 日本語\",\"default\":false,\"lang\":\"ja-JP\",\"is_remote\":true,\"voice_uri\":\"Google 日本語\"},{\"name\":\"Google Deutsch\",\"default\":false,\"lang\":\"de-DE\",\"is_remote\":true,\"voice_uri\":\"Google Deutsch\"},{\"name\":\"Google US English\",\"default\":false,\"lang\":\"en-US\",\"is_remote\":true,\"voice_uri\":\"Google US English\"},{\"name\":\"Google UK English Female\",\"default\":false,\"lang\":\"en-GB\",\"is_remote\":true,\"voice_uri\":\"Google UK English Female\"},{\"name\":\"Google UK English Male\",\"default\":false,\"lang\":\"en-GB\",\"is_remote\":true,\"voice_uri\":\"Google UK English Male\"},{\"name\":\"Google español\",\"default\":false,\"lang\":\"es-ES\",\"is_remote\":true,\"voice_uri\":\"Google español\"},{\"name\":\"Google español de Estados Unidos\",\"default\":false,\"lang\":\"es-US\",\"is_remote\":true,\"voice_uri\":\"Google español de Estados Unidos\"},{\"name\":\"Google français\",\"default\":false,\"lang\":\"fr-FR\",\"is_remote\":true,\"voice_uri\":\"Google français\"},{\"name\":\"Google हिन्दी\",\"default\":false,\"lang\":\"hi-IN\",\"is_remote\":true,\"voice_uri\":\"Google हिन्दी\"},{\"name\":\"Google Bahasa Indonesia\",\"default\":false,\"lang\":\"id-ID\",\"is_remote\":true,\"voice_uri\":\"Google Bahasa Indonesia\"},{\"name\":\"Google polski\",\"default\":false,\"lang\":\"pl-PL\",\"is_remote\":true,\"voice_uri\":\"Google polski\"},{\"name\":\"Google русский\",\"default\":false,\"lang\":\"ru-RU\",\"is_remote\":true,\"voice_uri\":\"Google русский\"},{\"name\":\"Google português do Brasil\",\"default\":false,\"lang\":\"pt-BR\",\"is_remote\":true,\"voice_uri\":\"Google português do Brasil\"},{\"name\":\"Google italiano\",\"default\":false,\"lang\":\"it-IT\",\"is_remote\":true,\"voice_uri\":\"Google italiano\"},{\"name\":\"Google 한국의\",\"default\":false,\"lang\":\"ko-KR\",\"is_remote\":true,\"voice_uri\":\"Google 한국의\"}]', 'hardwareConcurrency': '4', 'deviceMemory': '8', 'deviceInfoEnabled': True, 'computerName': 'DESKTOP-RJ10352R', 'macAddr': '3C-58-C2-DA-D3-C1', 'clientRectNoiseEnabled': True, 'clientRectNoiseValue': 9008, 'doNotTrack': '1', 'portScanProtect': '0', 'portWhiteList': '', 'isDelete': 0, 'colorDepth': 24, 'totalDiskSpace': '3583729664', 'devicePixelRatio': 1, 'disableSslCipherSuitesFlag': False, 'disableSslCipherSuites': None, 'plugins': '', 'enablePlugins': False, 'windowSizeLimit': True, 'createdBy': '2c9bc061908cc3290190905e2cb41ac7', 'createdTime': '2024-07-23 15:07:59', 'isValidUsername': True, 'abortImage': False, 'abortImageMaxSize': None, 'abortMedia': False, 'stopWhileNetError': False, 'stopWhileCountryChange': False, 'syncTabs': True, 'syncCookies': True, 'syncIndexedDb': False, 'syncBookmarks': False, 'syncAuthorization': False, 'syncHistory': False, 'syncGoogleAccount': False, 'allowedSignin': False, 'syncSessions': False, 'workbench': 'localserver', 'clearCacheFilesBeforeLaunch': False, 'clearCookiesBeforeLaunch': False, 'clearHistoriesBeforeLaunch': False, 'randomFingerprint': False, 'muteAudio': False, 'disableGpu': False, 'enableBackgroundMode': False, 'syncExtensions': False, 'syncUserExtensions': False, 'syncLocalStorage': False, 'credentialsEnableService': False, 'disableTranslatePopup': False, 'stopWhileIpChange': False, 'disableClipboard': False, 'disableNotifications': False, 'coreProduct': 'chrome', 'webgpu': {'driver': None, 'vendor': 'intel', 'description': None, 'device': None, 'architecture': 'gen-7'}, 'batchRandom': False, 'batchUpdateFingerPrint': False, 'firefoxVersionMap': None, 'launchArgs': None}, 'createdName': None, 'belongUserName': None, 'updateName': None, 'agentIpCount': None, 'belongToMe': True, 'seqExport': None, 'groupIDs': None, 'browserShareID': None, 'share': None, 'shareUserName': None, 'isShare': 0, 'isValidUsername': True, 'createNum': 0, 'isRandomFinger': True, 'remarkType': 1, 'refreshProxyUrl': None, 'duplicateCheck': 1, 'ossExtend': None, 'randomKey': '04232997f252c40e6f370942f3eba281f7fa9ad8d4f08b1107fcaa385c05989d', 'randomKeyUser': None, 'syncBrowserAccount': None, 'cookieBak': '', 'passwordBak': None, 'manual': 0, 'proxyPasswordBak': None, 'proxyAgreementType': None, 'clearCacheWithoutExtensions': False, 'syncPaymentsAndAddress': False, 'extendIds': [], 'isSynOpen': 1, 'faSecretKey': None, 'coreProduct': 'chrome', 'ostype': None, 'os': None, 'sort': 0, 'checkPassword': None}\n"
     ]
    }
   ],
   "source": [
    "from modules.facebook_operate import FacebookOperate\n",
    "\n",
    "browser_id = '6875eea406de409a8449b16e2e79a54d'\n",
    "fb_operate = FacebookOperate(browser_id,capture=True)\n",
    "print(fb_operate.browser_control.browser_data)"
   ]
  },
  {
   "cell_type": "code",
   "execution_count": null,
   "metadata": {},
   "outputs": [],
   "source": [
    "import json\n",
    "browser_data = fb_operate.browser_control.browser_data\n",
    "print(json.dumps(browser_data))\n",
    "\n",
    "proxy_host = browser_data.get('host')\n",
    "proxy_port = browser_data.get('port')\n",
    "proxy_user = browser_data.get('proxyUserName')\n",
    "proxy_pass = browser_data.get('proxyPassword')\n",
    "\n",
    "proxy_url = f'socks5://{proxy_user}:{proxy_pass}@{proxy_host}:{proxy_port}'\n",
    "\n",
    "wire_options = {\n",
    "    'proxy': {\n",
    "        'http':  proxy_url,\n",
    "        'https': proxy_url,\n",
    "        'no_proxy': 'localhost,127.0.0.1'\n",
    "    }\n",
    "}"
   ]
  },
  {
   "cell_type": "code",
   "execution_count": 63,
   "metadata": {},
   "outputs": [],
   "source": [
    "# from selenium.webdriver.common.desired_capabilities import DesiredCapabilities\n",
    "\n",
    "# ca = DesiredCapabilities.CHROME\n",
    "# ca[\"goog:loggingPrefs\"] = {\"performance\": \"ALL\"}\n",
    "# driver = fb_operate.driver(desired_capabilities=ca)\n",
    "import json\n",
    "# print(logs)\n",
    "def process_network_event(driver, logs, match_url):\n",
    "    for entry in logs:\n",
    "        message = json.loads(entry[\"message\"]).get(\"message\", {})\n",
    "        method = message.get(\"method\", \"\")\n",
    "        \n",
    "        url = message.get(\"params\", {}).get(\"response\", {}).get(\"url\", \"\")\n",
    "        # print(url)\n",
    "        if url == \"\":\n",
    "            continue\n",
    "        if not url.startswith(match_url): # 匹配我们想要的url\n",
    "            continue\n",
    "        print(method)\n",
    "        if method == \"Network.requestWillBeSent\":\n",
    "            if message['params']['request']['url'].startswith(match_url):\n",
    "                request_id = message['params']['requestId']\n",
    "                request_data = message['params']['request']['postData'] if 'postData' in message['params']['request'] else None\n",
    "\n",
    "                # 在这里，你可以处理请求数据\n",
    "                print(f\"Request Data for {request_id}: {request_data}\")\n",
    "\n",
    "        elif method == \"Network.responseReceived\":\n",
    "            response = message['params']['response']\n",
    "            if response['url'].startswith(match_url):\n",
    "                request_id = message['params']['requestId']\n",
    "\n",
    "                # 获取响应体\n",
    "                try:\n",
    "                    response_body = driver.execute_cdp_cmd('Network.getResponseBody', {'requestId': request_id})\n",
    "                    json_string = response_body.get(\"body\", \"\")\n",
    "                    if json_string:\n",
    "                        response_data = json.loads(json_string)\n",
    "                        # 在这里，你可以处理响应数据\n",
    "                        print(f\"Response Data for {request_id}: {response_data}\")\n",
    "                except Exception as e:\n",
    "                    print(f\"Error getting response body for {request_id}: {e}\")\n",
    "\n",
    "    return None  # 或者根据你的需要返回适当的数据"
   ]
  },
  {
   "cell_type": "code",
   "execution_count": 57,
   "metadata": {},
   "outputs": [
    {
     "name": "stdout",
     "output_type": "stream",
     "text": [
      "857\n"
     ]
    }
   ],
   "source": [
    "\n",
    "logs = fb_operate.driver.get_log(\"performance\")\n",
    "print(len(logs))"
   ]
  },
  {
   "cell_type": "code",
   "execution_count": 64,
   "metadata": {},
   "outputs": [
    {
     "name": "stdout",
     "output_type": "stream",
     "text": [
      "857\n",
      "857\n",
      "Network.responseReceived\n",
      "Response Data for 39800.516: {'data': {'feedback': {'reaction_display_config': {'reaction_display_strategy': 'NONE'}, 'important_reactors': {'nodes': []}, 'reactors': {'nodes': [{'__typename': 'User', 'name': 'Wen Tseng', 'id': '100000080411233'}, {'__typename': 'User', 'name': '小柴摩摩', 'id': '100032210144762'}, {'__typename': 'User', 'name': '李芸茹', 'id': '100001997827288'}, {'__typename': 'User', 'name': '張觀貞', 'id': '100035627623950'}, {'__typename': 'User', 'name': '陳寶惠', 'id': '100009212135813'}, {'__typename': 'User', 'name': '陳郁秋', 'id': '100008650810716'}, {'__typename': 'User', 'name': 'Susi Hsieh', 'id': '100024660140605'}, {'__typename': 'User', 'name': '謝美珠', 'id': '100006142818879'}, {'__typename': 'User', 'name': '賴玉嬌', 'id': '100008524115191'}, {'__typename': 'User', 'name': 'Pauline Wong', 'id': '100063927406549'}, {'__typename': 'User', 'name': '徐純惠', 'id': '100008351895858'}, {'__typename': 'User', 'name': '何貔貅', 'id': '100026182863109'}, {'__typename': 'User', 'name': 'Lily Fung', 'id': '100010997254290'}, {'__typename': 'User', 'name': 'Eva Huang', 'id': '100015050940151'}, {'__typename': 'User', 'name': '黃羨美', 'id': '100005884471082'}, {'__typename': 'User', 'name': 'Yu Hsu', 'id': '100000895593049'}, {'__typename': 'User', 'name': 'Atqueen Lin', 'id': '100000227916709'}, {'__typename': 'User', 'name': '淑君', 'id': '100000158761464'}]}, 'id': 'ZmVlZGJhY2s6MTMxNTI3NDU4Mjg4OTUzNA=='}}, 'extensions': {'is_final': True}}\n",
      "Network.responseReceived\n",
      "Response Data for 39800.520: {'data': {'node': {'__typename': 'Feedback', 'associated_group': None, 'reaction_display_config': {'reaction_display_strategy': 'NONE', 'reaction_sheet_explanation_string': None, '__module_operation_CometUFIReactionsDialogQuery': {'__dr': 'CometUFIReactionDialogExplanationString_reactionDisplayConfig$normalization.graphql'}, '__module_component_CometUFIReactionsDialogQuery': {'__dr': 'CometUFIReactionDialogExplanationString.react'}}, 'top_reactions': {'count': 2, 'summary': [{'reaction_count': 15, 'reaction_count_reduced': '15', 'reaction': {'id': '1635855486666999', 'localized_name': '讚好', 'color': 'FF0866FF', 'face_image': {'uri': 'https://scontent.fhkg10-2.fna.fbcdn.net/m1/v/t6/An-HX414PnqCVzyEq9OFFdayyrdj8c3jnyPbPcierija6hpzsUvw-1VPQ260B2M9EbxgmP7pYlNQSjYAXF782_vnvvpDLxvJQD74bwdWEJ0DhcErkDga6gazZZUYm_Q.png?ccb=10-5&oh=00_AYDUD391TRgLfMKRUXxOTFKyAf4ojDEhu9LLuNCZ9Eczfg&oe=66CACEA3&_nc_sid=7da55a'}}}, {'reaction_count': 3, 'reaction_count_reduced': '3', 'reaction': {'id': '1678524932434102', 'localized_name': '勁正', 'color': 'FFF33E58', 'face_image': {'uri': 'https://scontent.fhkg10-2.fna.fbcdn.net/m1/v/t6/An8VnwvdkGMXIQcr4C62IqyP-g1O5--yQu9PnL-k4yvIbj8yTSE32ea4ORp0OwFNGEWJbb86MHBaLY-SMvUKdUYJnNFcexEoUGoVzcVd50SaAIzBE-K5dxR8Y-MJn5E.png?ccb=10-5&oh=00_AYD2MB8_YhkGX5RcIBiPlkShOeFMpka-h2Onx2Uwe1y-KA&oe=66CAD24C&_nc_sid=7da55a'}}}]}, 'important_reactors': {'edges': []}, 'id': 'ZmVlZGJhY2s6MTMxNTI3NDU4Mjg4OTUzNA==', 'reactors': {'edges': [{'feedback_reaction_info': {'face_image': {'uri': 'https://scontent.fhkg10-2.fna.fbcdn.net/m1/v/t6/An8ksaC2wrR9xTiFnA_wXO7u3O_aEQRQhKHQBucbC5fylkt5MQ08FT3TYzIRsR_om04dYMtDG2Q4FVrEY50NaiIpQu5Sp9uU5Gbye7iUN3pZDBs3Eo_fnBt-WER1u_o.png?ccb=10-5&oh=00_AYAqSu4uXTi6al_vVINtxUbVtVwnAzTm4RLJMBlog13Fvg&oe=66CAB9BA&_nc_sid=7da55a'}, 'id': '1678524932434102'}, 'node': {'id': '100032210144762', '__typename': 'User', '__isActor': 'User', 'mutual_friends': {'count': 0}, '__isProfile': 'User', 'can_viewer_message': True, 'friendship_status': 'CANNOT_REQUEST', 'subscribe_status': 'CAN_SUBSCRIBE', 'secondary_subscribe_status': 'REGULAR_FOLLOW', 'invite_status_in_feedback': 'NOT_INVITABLE', 'follower_invite_status_in_feedback': 'NOT_INVITABLE', 'name': '小柴摩摩', 'answer_agent_group_id': None, '__isEntity': 'User', 'profile_url': 'https://www.facebook.com/momo20140308', 'story_bucket': {'nodes': [{'should_show_close_friend_badge': False, 'id': '357870858629916', 'first_story_to_show': {'id': 'UzpfSVNDOjg0NDA4NDcwMTAyMDc1MA==', 'story_card_seen_state': {'is_seen_by_viewer': False}}}]}, 'url': 'https://www.facebook.com/momo20140308', 'profile_picture': {'uri': 'https://scontent.fhkg10-1.fna.fbcdn.net/v/t1.6435-1/162030564_398082587942076_1461658621185035998_n.jpg?stp=cp0_dst-jpg_p40x40&_nc_cat=102&ccb=1-7&_nc_sid=616b0e&_nc_ohc=nncMUd_ABmUQ7kNvgHr5W_V&_nc_ht=scontent.fhkg10-1.fna&oh=00_AYDplj0fa-mHbcKFAHAVfZiKVJ44fwYqo0d9fOq18MXZVg&oe=66CAB874', 'width': 40, 'height': 40, 'scale': 1}, '__isContextualProfile': 'User'}, 'cursor': 'AQHRGTGWImzeSJugRpgGW0kVz09eLZ9-885enegtbtE0RMAusjp1iKtheRINp4o8DA3fT8I2TrWezt2lEJg4A_9Sqg'}, {'feedback_reaction_info': {'face_image': {'uri': 'https://scontent.fhkg10-2.fna.fbcdn.net/m1/v/t6/An8ksaC2wrR9xTiFnA_wXO7u3O_aEQRQhKHQBucbC5fylkt5MQ08FT3TYzIRsR_om04dYMtDG2Q4FVrEY50NaiIpQu5Sp9uU5Gbye7iUN3pZDBs3Eo_fnBt-WER1u_o.png?ccb=10-5&oh=00_AYAqSu4uXTi6al_vVINtxUbVtVwnAzTm4RLJMBlog13Fvg&oe=66CAB9BA&_nc_sid=7da55a'}, 'id': '1678524932434102'}, 'node': {'id': '100024660140605', '__typename': 'User', '__isActor': 'User', 'mutual_friends': {'count': 0}, '__isProfile': 'User', 'can_viewer_message': True, 'friendship_status': 'CAN_REQUEST', 'subscribe_status': 'CANNOT_SUBSCRIBE', 'secondary_subscribe_status': 'REGULAR_FOLLOW', 'invite_status_in_feedback': 'NOT_INVITABLE', 'follower_invite_status_in_feedback': 'NOT_INVITABLE', 'name': 'Susi Hsieh', 'answer_agent_group_id': None, '__isEntity': 'User', 'profile_url': 'https://www.facebook.com/susi.hsieh.5', 'story_bucket': {'nodes': []}, 'url': 'https://www.facebook.com/susi.hsieh.5', 'profile_picture': {'uri': 'https://scontent.fhkg10-2.fna.fbcdn.net/v/t39.30808-1/450293012_1651658078999514_6258325545522671026_n.jpg?stp=cp0_dst-jpg_p40x40&_nc_cat=107&ccb=1-7&_nc_sid=0ecb9b&_nc_ohc=9rfrZl5P2G4Q7kNvgFcbetk&_nc_ht=scontent.fhkg10-2.fna&oh=00_AYCAhwyvnF5ECM5PhsANfTfVBu_SqymwMtM7j88yiSgBig&oe=66A91206', 'width': 40, 'height': 40, 'scale': 1}, '__isContextualProfile': 'User'}, 'cursor': 'AQHRjuwEAYFdq00pqfGVPZaP6_bT3v1qiA30Y6PztVDlNrzNRorK6tQUaPx3scuDr43dpPsxMXU1euwqiM1l9sHczA'}, {'feedback_reaction_info': {'face_image': {'uri': 'https://scontent.fhkg10-2.fna.fbcdn.net/m1/v/t6/An8ksaC2wrR9xTiFnA_wXO7u3O_aEQRQhKHQBucbC5fylkt5MQ08FT3TYzIRsR_om04dYMtDG2Q4FVrEY50NaiIpQu5Sp9uU5Gbye7iUN3pZDBs3Eo_fnBt-WER1u_o.png?ccb=10-5&oh=00_AYAqSu4uXTi6al_vVINtxUbVtVwnAzTm4RLJMBlog13Fvg&oe=66CAB9BA&_nc_sid=7da55a'}, 'id': '1678524932434102'}, 'node': {'id': '100015050940151', '__typename': 'User', '__isActor': 'User', 'mutual_friends': {'count': 0}, '__isProfile': 'User', 'can_viewer_message': True, 'friendship_status': 'CAN_REQUEST', 'subscribe_status': 'CAN_SUBSCRIBE', 'secondary_subscribe_status': 'REGULAR_FOLLOW', 'invite_status_in_feedback': 'NOT_INVITABLE', 'follower_invite_status_in_feedback': 'NOT_INVITABLE', 'name': 'Eva Huang', 'answer_agent_group_id': None, '__isEntity': 'User', 'profile_url': 'https://www.facebook.com/profile.php?id=100015050940151', 'story_bucket': {'nodes': [{'should_show_close_friend_badge': False, 'id': '618417002003326', 'first_story_to_show': None}]}, 'url': 'https://www.facebook.com/profile.php?id=100015050940151', 'profile_picture': {'uri': 'https://scontent.fhkg10-1.fna.fbcdn.net/v/t39.30808-1/306923633_1446932742485077_8979815889985027292_n.jpg?stp=cp6_dst-jpg_p40x40&_nc_cat=110&ccb=1-7&_nc_sid=50d2ac&_nc_ohc=8B1icA9NA6wQ7kNvgG8w5vF&_nc_ht=scontent.fhkg10-1.fna&oh=00_AYC-SKH0Sgc3RUKtm8rG9qpzLs1t-0d1JxkfywJ1eAz1-Q&oe=66A94885', 'width': 40, 'height': 40, 'scale': 1}, '__isContextualProfile': 'User'}, 'cursor': 'AQHRJD0xyCZ1Om1GJafBHyQ9aDqpiwtc3QNChVY7dXBgmp01Tx4pH-5kSpVCpdp0eY0R9Y--RM8RtYIv3zbc2BEsYA'}], 'page_info': {'has_next_page': False, 'end_cursor': 'AQHRja6CH-ViYmpThJQU0BD1732h_CLtvqh4hK1l4-zBzGICuRsNx0UdtcoEysSHiTIrB6HKD_Zp7pn7Boie0Ksphg'}}}}, 'extensions': {'prefetch_uris_v2': [{'uri': 'https://scontent.fhkg10-2.fna.fbcdn.net/v/t39.30808-1/450293012_1651658078999514_6258325545522671026_n.jpg?stp=cp0_dst-jpg_p40x40&_nc_cat=107&ccb=1-7&_nc_sid=0ecb9b&_nc_ohc=9rfrZl5P2G4Q7kNvgFcbetk&_nc_ht=scontent.fhkg10-2.fna&oh=00_AYCAhwyvnF5ECM5PhsANfTfVBu_SqymwMtM7j88yiSgBig&oe=66A91206', 'label': None}, {'uri': 'https://scontent.fhkg10-1.fna.fbcdn.net/v/t1.6435-1/162030564_398082587942076_1461658621185035998_n.jpg?stp=cp0_dst-jpg_p40x40&_nc_cat=102&ccb=1-7&_nc_sid=616b0e&_nc_ohc=nncMUd_ABmUQ7kNvgHr5W_V&_nc_ht=scontent.fhkg10-1.fna&oh=00_AYDplj0fa-mHbcKFAHAVfZiKVJ44fwYqo0d9fOq18MXZVg&oe=66CAB874', 'label': None}, {'uri': 'https://scontent.fhkg10-1.fna.fbcdn.net/v/t39.30808-1/306923633_1446932742485077_8979815889985027292_n.jpg?stp=cp6_dst-jpg_p40x40&_nc_cat=110&ccb=1-7&_nc_sid=50d2ac&_nc_ohc=8B1icA9NA6wQ7kNvgG8w5vF&_nc_ht=scontent.fhkg10-1.fna&oh=00_AYC-SKH0Sgc3RUKtm8rG9qpzLs1t-0d1JxkfywJ1eAz1-Q&oe=66A94885', 'label': None}], 'is_final': True, 'sr_payload': {'ddd': {'hsrp': {'hblp': {'consistency': {'rev': 1015171624}, 'rsrcMap': {'csr:_t_0_YM': {'type': 'csr', 'src': ':1,28,3,4,18,27,6,5,14,10,2,6453,12'}, 'csr:_t_1_AR': {'type': 'csr', 'src': ':28,14,3,4,6,5,1,12,16'}, 'csr:_t_2_ta': {'type': 'csr', 'src': ':10,18,2,6453'}, 'A8QwksT': {'type': 'js', 'src': 'data:application/x-javascript; charset=utf-8;base64,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', 'd': 1, 'nc': 1, 'p': ':689', 'm': '1015171624_main'}}, 'compMap': {'CometTooltip_DEPRECATED.react': {'r': ['csr:_t_1_AR'], 'rdfds': {'m': ['CometTooltipDeferredImpl.react'], 'r': ['csr:_t_2_ta']}, 'rds': {'m': ['CometSuspenseFalcoEvent', 'FbtLogging', 'IntlQtEventFalcoEvent', 'LogJsspStatsFalcoEvent']}, 'be': 1}}, 'csrUpgrade': ':689'}}, 'jsmods': {'define': [['cr:6640', [], {'__rc': [None, None]}, -1], ['cr:619', ['setTimeoutCometLoggingPriWWW'], {'__rc': ['setTimeoutCometLoggingPriWWW', None]}, -1], ['cr:755', ['warningWWW'], {'__rc': ['warningWWW', None]}, -1], ['cr:1078', [], {'__rc': [None, None]}, -1], ['cr:1080', ['unexpectedUseInComet'], {'__rc': ['unexpectedUseInComet', None]}, -1], ['cr:1126', ['TimeSliceSham'], {'__rc': ['TimeSliceSham', None]}, -1], ['cr:7385', ['clearIntervalWWW'], {'__rc': ['clearIntervalWWW', None]}, -1], ['cr:7386', ['clearTimeoutWWW'], {'__rc': ['clearTimeoutWWW', None]}, -1], ['cr:7388', ['setIntervalWWW'], {'__rc': ['setIntervalWWW', None]}, -1], ['cr:7390', ['setTimeoutWWW'], {'__rc': ['setTimeoutWWW', None]}, -1], ['cr:7391', ['setTimeoutAcrossTransitionsWWW'], {'__rc': ['setTimeoutAcrossTransitionsWWW', None]}, -1], ['cr:7422', ['ImageDownloadTrackerWWW'], {'__rc': ['ImageDownloadTrackerWWW', None]}, -1], ['cr:7887', ['FDSTextImpl.react'], {'__rc': ['FDSTextImpl.react', None]}, -1], ['cr:8907', ['HeroTracingCoreConfigWWW'], {'__rc': ['HeroTracingCoreConfigWWW', None]}, -1], ['cr:8908', ['HeroTracingCoreDependenciesWWW'], {'__rc': ['HeroTracingCoreDependenciesWWW', None]}, -1], ['cr:1108857', [], {'__rc': [None, None]}, -1], ['cr:1294158', ['React.classic'], {'__rc': ['React.classic', None]}, -1], ['cr:2682', ['warningComet'], {'__rc': ['warningComet', None]}, -1], ['cr:11202', [], {'__rc': [None, None]}, -1], ['cr:1105154', [], {'__rc': [None, None]}, -1], ['cr:1003267', ['clearIntervalComet'], {'__rc': ['clearIntervalComet', None]}, -1], ['cr:806696', ['clearTimeoutComet'], {'__rc': ['clearTimeoutComet', None]}, -1], ['cr:896461', ['setIntervalComet'], {'__rc': ['setIntervalComet', None]}, -1], ['cr:807042', ['setTimeoutComet'], {'__rc': ['setTimeoutComet', None]}, -1], ['cr:986633', ['setTimeoutComet'], {'__rc': ['setTimeoutComet', None]}, -1], ['cr:2099', ['DocumentTranslationStatusProvider.react'], {'__rc': ['DocumentTranslationStatusProvider.react', None]}, -1], ['cr:2448', ['useHeroBootloadedComponent'], {'__rc': ['useHeroBootloadedComponent', None]}, -1], ['cr:4874', [], {'__rc': [None, None]}, -1], ['cr:7451', [], {'__rc': [None, None]}, -1], ['cr:1064332', [], {'__rc': [None, None]}, -1], ['cr:1106516', [], {'__rc': [None, None]}, -1], ['cr:310', ['RunWWW'], {'__rc': ['RunWWW', None]}, -1], ['cr:686', [], {'__rc': [None, None]}, -1], ['cr:3798', [], {'__rc': [None, None]}, -1], ['cr:8958', ['FBJSON'], {'__rc': ['FBJSON', None]}, -1], ['cr:1984081', [], {'__rc': [None, None]}, -1], ['cr:1292365', ['React-prod.classic'], {'__rc': ['React-prod.classic', None]}, -1], ['cr:983844', [], {'__rc': [None, None]}, -1], ['cr:1072546', [], {'__rc': [None, None]}, -1], ['cr:1072547', [], {'__rc': [None, None]}, -1], ['cr:1072549', [], {'__rc': [None, None]}, -1], ['cr:925100', ['RunComet'], {'__rc': ['RunComet', None]}, -1]], 'require': [['CometUFIReactionDialogExplanationString_reactionDisplayConfig$normalization.graphql'], ['CometUFIReactionDialogExplanationString.react'], ['emptyFunction', 'thatReturns', ['RequireDeferredReference'], [[{'__dr': 'CometUFIReactionDialogExplanationString_reactionDisplayConfig$normalization.graphql'}, {'__dr': 'CometUFIReactionDialogExplanationString.react'}]]], ['CometSuspenseFalcoEvent'], ['RequireDeferredReference', 'unblock', [], [['CometUFIReactionDialogExplanationString_reactionDisplayConfig$normalization.graphql', 'CometUFIReactionDialogExplanationString.react'], 'sd']], ['RequireDeferredReference', 'unblock', [], [['CometSuspenseFalcoEvent'], 'sd']], ['RequireDeferredReference', 'unblock', [], [['CometUFIReactionDialogExplanationString_reactionDisplayConfig$normalization.graphql', 'CometUFIReactionDialogExplanationString.react'], 'css']], ['RequireDeferredReference', 'unblock', [], [['CometSuspenseFalcoEvent'], 'css']]]}, 'allResources': ['A8QwksT', 'csr:_t_0_YM'], 'tieredResources': {'r': ['A8QwksT', 'csr:_t_0_YM'], 'rdfds': [], 'rds': []}}}}}\n",
      "None\n"
     ]
    }
   ],
   "source": [
    "print(len(logs))\n",
    "print(len(logs))\n",
    "res = process_network_event(fb_operate.driver,logs,'https://www.facebook.com/api/graphql/')\n",
    "print(res)"
   ]
  },
  {
   "cell_type": "code",
   "execution_count": 48,
   "metadata": {},
   "outputs": [],
   "source": [
    "fb_operate.driver.get('https://www.facebook.com/photo/?fbid=1315274582889534&set=pcb.1315274616222864&__cft__[0]=AZW04tnp1oX0PbuOR1_RHPM1BoJzuh615Gv8ycgFQrUXoHOfJFEh5gn1fnTwoEpqPe6TJE4rn1RQlvA7BSb8EO9dvsaqLAoT5bboJL9DWrtyFtDBH2QWM6Gz7oi45HdmsLTWWFmjciJ9EfKVjl2sJBUo6BSTl5avrQ2M61fIKzkcuK-xxMQTytzDGv0WpJ9SyH-R_jWh1BOFUaT7cFji7xRrHyCEzEw5D8PNUmG0pdkdaw&__tn__=*bH-R')\n",
    "# req = fb_operate.driver.requests()\n",
    "# print(req)"
   ]
  },
  {
   "cell_type": "code",
   "execution_count": null,
   "metadata": {},
   "outputs": [],
   "source": [
    "print(fb_operate.driver.requests())"
   ]
  },
  {
   "cell_type": "code",
   "execution_count": null,
   "metadata": {},
   "outputs": [],
   "source": [
    "fb_id = fb_operate.fetch_facebook_id()\n",
    "print(fb_id)"
   ]
  },
  {
   "cell_type": "code",
   "execution_count": null,
   "metadata": {},
   "outputs": [],
   "source": [
    "fb_operate.driver.get('https://www.facebook.com')\n",
    "print(fb_operate.driver.requests)\n",
    "for request in fb_operate.driver.requests:\n",
    "    print(\"-----\")\n",
    "    if request.response:\n",
    "        print(\n",
    "            request.url,\n",
    "            request.response.status_code,\n",
    "            request.response.headers['Content-Type'],\n",
    "            request.body\n",
    "        )"
   ]
  },
  {
   "cell_type": "code",
   "execution_count": null,
   "metadata": {},
   "outputs": [],
   "source": [
    "from seleniumwire import webdriver  # Import from seleniumwire\n",
    "\n",
    "# Create a new instance of the Chrome driver\n",
    "driver = webdriver.Chrome()\n",
    "\n",
    "# Go to the Google home page\n",
    "driver.get('https://www.google.com')\n",
    "\n",
    "# Access requests via the `requests` attribute\n",
    "print(driver.requests)\n",
    "for request in driver.requests:\n",
    "    if request.response:\n",
    "        print(\n",
    "            request.url,\n",
    "            request.response.status_code,\n",
    "            request.response.headers['Content-Type'],\n",
    "            request.body\n",
    "        )"
   ]
  }
 ],
 "metadata": {
  "kernelspec": {
   "display_name": ".env",
   "language": "python",
   "name": "python3"
  },
  "language_info": {
   "codemirror_mode": {
    "name": "ipython",
    "version": 3
   },
   "file_extension": ".py",
   "mimetype": "text/x-python",
   "name": "python",
   "nbconvert_exporter": "python",
   "pygments_lexer": "ipython3",
   "version": "3.10.9"
  }
 },
 "nbformat": 4,
 "nbformat_minor": 2
}
