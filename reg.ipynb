{
 "cells": [
  {
   "cell_type": "code",
   "execution_count": 6,
   "metadata": {},
   "outputs": [
    {
     "data": {
      "text/html": [
       "<pre style=\"white-space:pre;overflow-x:auto;line-height:normal;font-family:Menlo,'DejaVu Sans Mono',consolas,'Courier New',monospace\"><span style=\"color: #7fbfbf; text-decoration-color: #7fbfbf\">2024/07/29 16:48:03 </span><span style=\"color: #000080; text-decoration-color: #000080\">INFO    </span> 获取手机号码<span style=\"font-weight: bold\">[</span><span style=\"color: #008080; text-decoration-color: #008080; font-weight: bold\">16756951851</span><span style=\"font-weight: bold\">]</span>--&gt;<span style=\"color: #008080; text-decoration-color: #008080; font-weight: bold\">16756951851</span>,雅玲,張,<span style=\"color: #008080; text-decoration-color: #008080; font-weight: bold\">1999</span>,<span style=\"color: #008080; text-decoration-color: #008080; font-weight: bold\">4</span>,<span style=\"color: #008080; text-decoration-color: #008080; font-weight: bold\">27</span>,2EEBU4guPw6PTvr             \n",
       "</pre>\n"
      ],
      "text/plain": [
       "\u001b[2;36m2024/07/29 16:48:03\u001b[0m\u001b[2;36m \u001b[0m\u001b[34mINFO    \u001b[0m 获取手机号码\u001b[1m[\u001b[0m\u001b[1;36m16756951851\u001b[0m\u001b[1m]\u001b[0m-->\u001b[1;36m16756951851\u001b[0m,雅玲,張,\u001b[1;36m1999\u001b[0m,\u001b[1;36m4\u001b[0m,\u001b[1;36m27\u001b[0m,2EEBU4guPw6PTvr             \n"
      ]
     },
     "metadata": {},
     "output_type": "display_data"
    },
    {
     "data": {
      "text/html": [
       "<pre style=\"white-space:pre;overflow-x:auto;line-height:normal;font-family:Menlo,'DejaVu Sans Mono',consolas,'Courier New',monospace\"><span style=\"color: #7fbfbf; text-decoration-color: #7fbfbf\">                    </span><span style=\"color: #000080; text-decoration-color: #000080\">INFO    </span> create browser:44183e644d464d2f9ac54be334538d65                                       \n",
       "</pre>\n"
      ],
      "text/plain": [
       "\u001b[2;36m                   \u001b[0m\u001b[2;36m \u001b[0m\u001b[34mINFO    \u001b[0m create browser:44183e644d464d2f9ac54be334538d65                                       \n"
      ]
     },
     "metadata": {},
     "output_type": "display_data"
    },
    {
     "data": {
      "text/html": [
       "<pre style=\"white-space:pre;overflow-x:auto;line-height:normal;font-family:Menlo,'DejaVu Sans Mono',consolas,'Courier New',monospace\"><span style=\"color: #7fbfbf; text-decoration-color: #7fbfbf\">2024/07/29 16:48:26 </span><span style=\"color: #000080; text-decoration-color: #000080\">INFO    </span> connect driver:<span style=\"font-weight: bold\">{</span><span style=\"color: #008000; text-decoration-color: #008000\">'success'</span>: <span style=\"color: #00ff00; text-decoration-color: #00ff00; font-style: italic\">True</span>, <span style=\"color: #008000; text-decoration-color: #008000\">'data'</span>: <span style=\"font-weight: bold\">{</span><span style=\"color: #008000; text-decoration-color: #008000\">'ws'</span>:                                       \n",
       "<span style=\"color: #7fbfbf; text-decoration-color: #7fbfbf\">                    </span>         <span style=\"color: #008000; text-decoration-color: #008000\">'ws://127.0.0.1:63753/devtools/browser/c459d263-8287-40df-b4d6-898384a091c5'</span>, <span style=\"color: #008000; text-decoration-color: #008000\">'http'</span>: \n",
       "<span style=\"color: #7fbfbf; text-decoration-color: #7fbfbf\">                    </span>         <span style=\"color: #008000; text-decoration-color: #008000\">'127.0.0.1:63753'</span>, <span style=\"color: #008000; text-decoration-color: #008000\">'coreVersion'</span>: <span style=\"color: #008000; text-decoration-color: #008000\">'126'</span>, <span style=\"color: #008000; text-decoration-color: #008000\">'driver'</span>:                                    \n",
       "<span style=\"color: #7fbfbf; text-decoration-color: #7fbfbf\">                    </span>         <span style=\"color: #008000; text-decoration-color: #008000\">'C:\\\\Users\\\\lqj\\\\AppData\\\\Roaming\\\\BitBrowser\\\\chromedriver\\\\126\\\\chromedriver.exe'</span>,  \n",
       "<span style=\"color: #7fbfbf; text-decoration-color: #7fbfbf\">                    </span>         <span style=\"color: #008000; text-decoration-color: #008000\">'seq'</span>: <span style=\"color: #008080; text-decoration-color: #008080; font-weight: bold\">100</span>, <span style=\"color: #008000; text-decoration-color: #008000\">'name'</span>: <span style=\"color: #008000; text-decoration-color: #008000\">'facebook-16756951851'</span>, <span style=\"color: #008000; text-decoration-color: #008000\">'remark'</span>:                                 \n",
       "<span style=\"color: #7fbfbf; text-decoration-color: #7fbfbf\">                    </span>         <span style=\"color: #008000; text-decoration-color: #008000\">'16756951851,雅玲,張,1999,4,27,2EEBU4guPw6PTvr'</span>, <span style=\"color: #008000; text-decoration-color: #008000\">'pid'</span>: <span style=\"color: #008080; text-decoration-color: #008080; font-weight: bold\">7044</span><span style=\"font-weight: bold\">}}</span>                        \n",
       "</pre>\n"
      ],
      "text/plain": [
       "\u001b[2;36m2024/07/29 16:48:26\u001b[0m\u001b[2;36m \u001b[0m\u001b[34mINFO    \u001b[0m connect driver:\u001b[1m{\u001b[0m\u001b[32m'success'\u001b[0m: \u001b[3;92mTrue\u001b[0m, \u001b[32m'data'\u001b[0m: \u001b[1m{\u001b[0m\u001b[32m'ws'\u001b[0m:                                       \n",
       "\u001b[2;36m                    \u001b[0m         \u001b[32m'ws://127.0.0.1:63753/devtools/browser/c459d263-8287-40df-b4d6-898384a091c5'\u001b[0m, \u001b[32m'http'\u001b[0m: \n",
       "\u001b[2;36m                    \u001b[0m         \u001b[32m'127.0.0.1:63753'\u001b[0m, \u001b[32m'coreVersion'\u001b[0m: \u001b[32m'126'\u001b[0m, \u001b[32m'driver'\u001b[0m:                                    \n",
       "\u001b[2;36m                    \u001b[0m         \u001b[32m'C:\\\\Users\\\\lqj\\\\AppData\\\\Roaming\\\\BitBrowser\\\\chromedriver\\\\126\\\\chromedriver.exe'\u001b[0m,  \n",
       "\u001b[2;36m                    \u001b[0m         \u001b[32m'seq'\u001b[0m: \u001b[1;36m100\u001b[0m, \u001b[32m'name'\u001b[0m: \u001b[32m'facebook-16756951851'\u001b[0m, \u001b[32m'remark'\u001b[0m:                                 \n",
       "\u001b[2;36m                    \u001b[0m         \u001b[32m'16756951851,雅玲,張,1999,4,27,2EEBU4guPw6PTvr'\u001b[0m, \u001b[32m'pid'\u001b[0m: \u001b[1;36m7044\u001b[0m\u001b[1m}\u001b[0m\u001b[1m}\u001b[0m                        \n"
      ]
     },
     "metadata": {},
     "output_type": "display_data"
    },
    {
     "name": "stdout",
     "output_type": "stream",
     "text": [
      "44183e644d464d2f9ac54be334538d65\n"
     ]
    }
   ],
   "source": [
    "from modules.browser_control import BrowserControl\n",
    "from facebook_register import FacebookRegister\n",
    "\n",
    "bc = BrowserControl()\n",
    "fr = FacebookRegister()\n",
    "print(fr.browser_id)"
   ]
  },
  {
   "cell_type": "code",
   "execution_count": 7,
   "metadata": {},
   "outputs": [],
   "source": [
    "fr.driver.get('https://mbasic.facebook.com')"
   ]
  },
  {
   "cell_type": "code",
   "execution_count": 9,
   "metadata": {},
   "outputs": [],
   "source": [
    "\n",
    "from selenium.webdriver.common.by import By\n",
    "helper = fr.helper\n",
    "sign_up_btn = helper.find_or_fail(By.NAME,'sign_up')\n",
    "sign_up_btn.click()\n"
   ]
  },
  {
   "cell_type": "code",
   "execution_count": 10,
   "metadata": {},
   "outputs": [],
   "source": [
    "username_input = helper.find_or_fail(By.NAME,'reg_email__')\n",
    "lastname_input = helper.find_or_fail(By.NAME,'lastname')\n",
    "firstname_input = helper.find_or_fail(By.NAME,'firstname')\n",
    "password_input = helper.find_or_fail(By.NAME,'reg_passwd__')\n",
    "year_choose = helper.find_or_fail(By.NAME,'birthday_year')\n",
    "month_choose = helper.find_or_fail(By.NAME,'birthday_month')\n",
    "day_choose = helper.find_or_fail(By.NAME,'birthday_day')\n",
    "sex_click = helper.find_or_fail(By.NAME,'sex')\n",
    "\n",
    "username_input.send_keys(f'8616756951851')\n",
    "lastname_input.send_keys(f'{fr.lastname}')\n",
    "firstname_input.send_keys(f'{fr.firstname}')\n",
    "password_input.send_keys(f'{fr.fb_password}')\n",
    "year_choose.send_keys(f'{fr.year}')\n",
    "month_choose.send_keys(f'{fr.month}')\n",
    "day_choose.send_keys(f'{fr.day}')\n",
    "sex_click.click()"
   ]
  },
  {
   "cell_type": "code",
   "execution_count": null,
   "metadata": {},
   "outputs": [],
   "source": [
    "fr.sms.get_message()"
   ]
  }
 ],
 "metadata": {
  "kernelspec": {
   "display_name": ".env",
   "language": "python",
   "name": "python3"
  },
  "language_info": {
   "codemirror_mode": {
    "name": "ipython",
    "version": 3
   },
   "file_extension": ".py",
   "mimetype": "text/x-python",
   "name": "python",
   "nbconvert_exporter": "python",
   "pygments_lexer": "ipython3",
   "version": "3.10.9"
  }
 },
 "nbformat": 4,
 "nbformat_minor": 2
}
