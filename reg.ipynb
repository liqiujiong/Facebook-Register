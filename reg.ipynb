{
 "cells": [
  {
   "cell_type": "code",
   "execution_count": 1,
   "metadata": {},
   "outputs": [],
   "source": [
    "from tools.sms import Sms\n",
    "server_url = \"https://api.haozhuma.com\"\n",
    "username = \"testlinkedin123\"\n",
    "password = \"testlinkedin123a\"\n",
    "sid = 72510\n",
    "sms = Sms(server_url, username, password,sid=72510)"
   ]
  },
  {
   "cell_type": "code",
   "execution_count": 2,
   "metadata": {},
   "outputs": [
    {
     "name": "stdout",
     "output_type": "stream",
     "text": [
      "释放所有手机号码\n",
      "13122369031 張淑娟 1998 10 16 9B5So83edqhXNEM\n"
     ]
    }
   ],
   "source": [
    "\"\"\"\n",
    "完整流程:\n",
    "- 获取手机号码\n",
    "- 创建浏览器窗口\n",
    "- 打开页面\n",
    "- 操作注册 -> 获取注册信息\n",
    "- 执行注册\n",
    "- 收信\n",
    "- 注册成功 -> 写入数据库 -> 设置分组(新注册)\n",
    "- 注册失败 -> 删除窗口\n",
    "\"\"\"\n",
    "\n",
    "import random\n",
    "from faker import Faker\n",
    "from tools.bit_api import openBrowser,createBrowser,deleteBrowser\n",
    "from selenium import webdriver\n",
    "from selenium.common.exceptions import TimeoutException\n",
    "from selenium.webdriver.common.keys import Keys\n",
    "from selenium.webdriver.chrome.options import Options\n",
    "from selenium.webdriver.common.desired_capabilities import DesiredCapabilities\n",
    "from selenium.webdriver.chrome.service import Service\n",
    "from selenium.webdriver.support.ui import WebDriverWait\n",
    "from selenium.webdriver.common.by import By\n",
    "from selenium.webdriver.support import expected_conditions as EC\n",
    "from selenium.webdriver.support.ui import Select\n",
    "import time\n",
    "\n",
    "sms.release_all_phones()\n",
    "\n",
    "phone = sms.get_phone()\n",
    "\n",
    "# 初始化注册信息\n",
    "faker = Faker('zh_TW')\n",
    "name = faker.name_female()\n",
    "firstname = name[1:]\n",
    "lastname = name[0:1]\n",
    "year = str(random.randint(1985,2005))\n",
    "month = str(random.randint(1,12))\n",
    "day = str(random.randint(1,28))\n",
    "fb_password = faker.password(length=15, special_chars=False, digits=True, upper_case=True, lower_case=True)\n",
    "\n",
    "proxy_port = 12233\n",
    "proxy_server = 'pr.aa4koj1o.lunaproxy.net'\n",
    "proxy_username = f'user-lu7069006-region-tw-sessid-{fb_password}-sesstime-30'\n",
    "proxy_password = f'B8#U&E*asjXRg$'\n",
    "\n",
    "print(phone,name,year,month,day,fb_password)\n",
    "reg_info = f'{phone},{firstname},{lastname},{year},{month},{day},{fb_password}'\n",
    "\n",
    "win_name = f'facebook-{phone}'\n",
    "\n",
    "json_data = {\n",
    "    'name': win_name,  # 窗口名称\n",
    "    'remark': '',  # 备注\n",
    "    # 'proxyMethod': 3,  # 代理方式 2自定义 3 提取IP\n",
    "    # # 代理类型  ['noproxy', 'http', 'https', 'socks5', 'ssh']\n",
    "    # 'proxyType': 'socks5',\n",
    "\n",
    "    # 'dynamicIpUrl': 'http://43.156.34.150:777/proxy/get_proxy_list?key=a850b22464e69475ac69b916dfe1307e&index=9&num=1',\n",
    "    \"proxyMethod\": 2,\n",
    "    \"proxyType\": \"socks5\",\n",
    "    \"host\": proxy_server,\n",
    "    \"port\": proxy_port,\n",
    "    \"proxyUserName\": proxy_username,\n",
    "    \"proxyPassword\": proxy_password,\n",
    "    \n",
    "    'dynamicIpChannel': 'common',\n",
    "    'isDynamicIpChangeIp': True,\n",
    "    \"browserFingerPrint\": {  # 指纹对象\n",
    "        'coreVersion': '124'  # 内核版本，注意，win7/win8/winserver 2012 已经不支持112及以上内核了，无法打开\n",
    "    },\n",
    "    # \"platform\":\"https://www.facebook.com\",\n",
    "    # \"userName\":phone,\n",
    "    # \"password\":fb_password,\n",
    "    \"remark\":reg_info\n",
    "}\n",
    "\n",
    "\n",
    "browser_id = createBrowser(json_data)\n",
    "\n",
    "# /browser/open 接口会返回 selenium使用的http地址，以及webdriver的path，直接使用即可\n",
    "res = openBrowser(browser_id) # 窗口ID从窗口配置界面中复制，或者api创建后返回\n",
    "\n",
    "# time.sleep(60)\n",
    "\n",
    "# deleteBrowser(browser_id)"
   ]
  },
  {
   "cell_type": "code",
   "execution_count": 3,
   "metadata": {},
   "outputs": [],
   "source": [
    "import random\n",
    "\n",
    "def connect_selenium(driverPath,debuggerAddress):\n",
    "    chrome_options = webdriver.ChromeOptions()\n",
    "    chrome_options.add_experimental_option(\"debuggerAddress\", debuggerAddress)\n",
    "\n",
    "    chrome_service = Service(driverPath)\n",
    "    driver = webdriver.Chrome(service=chrome_service, options=chrome_options)\n",
    "    return driver\n",
    "\n",
    "\n",
    "\n",
    "driverPath = res['data']['driver']\n",
    "debuggerAddress = res['data']['http']\n",
    "driver = connect_selenium(driverPath,debuggerAddress)\n",
    "driver.get('https://www.facebook.com/')\n",
    "\n"
   ]
  },
  {
   "cell_type": "code",
   "execution_count": 5,
   "metadata": {},
   "outputs": [],
   "source": [
    "\n",
    "from tools.selenium_driver_helper import SeleniumDriverHelper\n",
    "helper = SeleniumDriverHelper(driver)\n",
    "创建账户Xpath = '/html/body/div[1]/div[1]/div[1]/div/div/div/div[2]/div/div[1]/form/div[5]/a'\n",
    "reg_button = helper.find_or_fail(By.XPATH,创建账户Xpath)\n",
    "reg_button.click()"
   ]
  },
  {
   "cell_type": "code",
   "execution_count": null,
   "metadata": {},
   "outputs": [],
   "source": [
    "\n",
    "def input_reg_form(driver,phone,lastname,firstname,password,year,month,day):\n",
    "    username_input = WebDriverWait(driver, 30).until(\n",
    "        EC.presence_of_element_located((By.NAME, \"reg_email__\"))\n",
    "    )\n",
    "    lastname_input = WebDriverWait(driver, 30).until(\n",
    "        EC.presence_of_element_located((By.NAME, \"lastname\"))\n",
    "    )\n",
    "    firstname_input = WebDriverWait(driver, 30).until(\n",
    "        EC.presence_of_element_located((By.NAME, \"firstname\"))\n",
    "    )\n",
    "    password_input = WebDriverWait(driver, 30).until(\n",
    "        EC.presence_of_element_located((By.NAME, \"reg_passwd__\"))\n",
    "    )\n",
    "    year_choose = Select(WebDriverWait(driver, 30).until(\n",
    "        EC.presence_of_element_located((By.NAME, \"birthday_year\"))\n",
    "    ))\n",
    "    month_choose = Select(WebDriverWait(driver, 30).until(\n",
    "        EC.presence_of_element_located((By.NAME, \"birthday_month\"))\n",
    "    ))\n",
    "\n",
    "    day_choose = Select(WebDriverWait(driver, 30).until(\n",
    "        EC.presence_of_element_located((By.NAME, \"birthday_day\"))\n",
    "    ))\n",
    "    sex_click = WebDriverWait(driver, 30).until(\n",
    "        EC.presence_of_element_located((By.NAME, \"sex\"))\n",
    "    )\n",
    "    time.sleep(random.uniform(2,3))\n",
    "    username_input.send_keys(phone)\n",
    "    time.sleep(random.uniform(2,3))\n",
    "    lastname_input.send_keys(lastname)\n",
    "    time.sleep(random.uniform(2,3))\n",
    "    firstname_input.send_keys(firstname)\n",
    "    time.sleep(random.uniform(2,3))\n",
    "    password_input.send_keys(password)\n",
    "    time.sleep(random.uniform(2,3))\n",
    "    year_choose.select_by_value(year)\n",
    "    time.sleep(random.uniform(2,3))\n",
    "    month_choose.select_by_value(month)\n",
    "    time.sleep(random.uniform(2,3))\n",
    "    day_choose.select_by_value(day)\n",
    "    time.sleep(random.uniform(2,3))\n",
    "    sex_click.click() # 默认注册女性\n",
    "\n",
    "# print(month)\n",
    "input_reg_form(driver,phone=f\"86{phone}\",\n",
    "               lastname=lastname,\n",
    "               firstname=firstname,\n",
    "               password=fb_password,\n",
    "               year=year,\n",
    "               month=month,\n",
    "               day=day)"
   ]
  },
  {
   "cell_type": "code",
   "execution_count": null,
   "metadata": {},
   "outputs": [],
   "source": [
    "\n",
    "# time.sleep(random.uniform(3,4))\n",
    "submit_reg = WebDriverWait(driver, 30).until(\n",
    "    EC.presence_of_element_located((By.NAME, \"websubmit\"))\n",
    ")\n",
    "submit_reg.click()\n",
    "time.sleep(random.uniform(15,30))"
   ]
  },
  {
   "cell_type": "code",
   "execution_count": null,
   "metadata": {},
   "outputs": [],
   "source": [
    "try:\n",
    "    reg_tip_span = WebDriverWait(driver, 30).until(\n",
    "        EC.presence_of_element_located((By.CLASS_NAME, \"uiHeaderTitle\"))\n",
    "    )\n",
    "    tip = reg_tip_span.text\n",
    "    if tip != '輸入短訊中的確認碼':\n",
    "        print(f'注册失败~{tip},号码拉黑')\n",
    "    else:\n",
    "        print(f\"注册成功：接收短信验证码\")\n",
    "except Exception as e:\n",
    "    # res = sms.blacklist_phone(phone)\n",
    "    # deleteBrowser(browser_id)\n",
    "    print(f'注册失败~,号码{phone}拉黑,删除窗口')"
   ]
  },
  {
   "cell_type": "code",
   "execution_count": null,
   "metadata": {},
   "outputs": [],
   "source": [
    "phone = '13166430182'\n",
    "res = sms.get_message(phone)\n",
    "# {'msg': 'success', 'code': '0', 'sms': '【Facebook】FB-35198 是你的 Facebook 確認碼', 'yzm': '35198'}\n",
    "if isinstance(res,dict) and res.get('yzm'):\n",
    "    sms_code = res.get('yzm')\n",
    "    print(f'{phone}取到验证码:{sms_code}')\n",
    "print(res)"
   ]
  },
  {
   "cell_type": "code",
   "execution_count": null,
   "metadata": {},
   "outputs": [],
   "source": [
    "\n",
    "#TODO 点击重发/"
   ]
  },
  {
   "cell_type": "code",
   "execution_count": null,
   "metadata": {},
   "outputs": [],
   "source": [
    "sms_code = \"64288\"\n",
    "sms_input = WebDriverWait(driver, 30).until(\n",
    "    EC.presence_of_element_located((By.NAME, \"code\"))\n",
    ")\n",
    "sms_input.send_keys(sms_code)"
   ]
  },
  {
   "cell_type": "code",
   "execution_count": null,
   "metadata": {},
   "outputs": [],
   "source": [
    "success_reg_btn = WebDriverWait(driver, 30).until(\n",
    "    EC.presence_of_element_located((By.NAME, \"confirm\"))\n",
    ")\n",
    "success_reg_btn.click()"
   ]
  },
  {
   "cell_type": "code",
   "execution_count": null,
   "metadata": {},
   "outputs": [],
   "source": [
    "success_reg_btn = WebDriverWait(driver, 90).until(\n",
    "    EC.presence_of_element_located((By.LINK_TEXT, \"確定\"))\n",
    ")\n",
    "success_reg_btn.click()"
   ]
  },
  {
   "cell_type": "code",
   "execution_count": null,
   "metadata": {},
   "outputs": [],
   "source": [
    "# closecloseBrowser\n",
    "deleteBrowser(browser_id)"
   ]
  }
 ],
 "metadata": {
  "kernelspec": {
   "display_name": ".env",
   "language": "python",
   "name": "python3"
  },
  "language_info": {
   "codemirror_mode": {
    "name": "ipython",
    "version": 3
   },
   "file_extension": ".py",
   "mimetype": "text/x-python",
   "name": "python",
   "nbconvert_exporter": "python",
   "pygments_lexer": "ipython3",
   "version": "3.10.9"
  }
 },
 "nbformat": 4,
 "nbformat_minor": 2
}
