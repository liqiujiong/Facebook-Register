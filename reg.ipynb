{
 "cells": [
  {
   "cell_type": "code",
   "execution_count": 5,
   "metadata": {},
   "outputs": [
    {
     "data": {
      "text/html": [
       "<pre style=\"white-space:pre;overflow-x:auto;line-height:normal;font-family:Menlo,'DejaVu Sans Mono',consolas,'Courier New',monospace\"><span style=\"color: #7fbfbf; text-decoration-color: #7fbfbf\">2024/07/25 10:49:39 </span><span style=\"color: #000080; text-decoration-color: #000080\">INFO    </span> 获取手机号码<span style=\"font-weight: bold\">[</span><span style=\"color: #008080; text-decoration-color: #008080; font-weight: bold\">16727961988</span><span style=\"font-weight: bold\">]</span>--&gt;<span style=\"color: #008080; text-decoration-color: #008080; font-weight: bold\">16727961988</span>,怡萱,田,<span style=\"color: #008080; text-decoration-color: #008080; font-weight: bold\">2000</span>,<span style=\"color: #008080; text-decoration-color: #008080; font-weight: bold\">3</span>,<span style=\"color: #008080; text-decoration-color: #008080; font-weight: bold\">3</span>,xTK8QURkbMV3CVT              \n",
       "</pre>\n"
      ],
      "text/plain": [
       "\u001b[2;36m2024/07/25 10:49:39\u001b[0m\u001b[2;36m \u001b[0m\u001b[34mINFO    \u001b[0m 获取手机号码\u001b[1m[\u001b[0m\u001b[1;36m16727961988\u001b[0m\u001b[1m]\u001b[0m-->\u001b[1;36m16727961988\u001b[0m,怡萱,田,\u001b[1;36m2000\u001b[0m,\u001b[1;36m3\u001b[0m,\u001b[1;36m3\u001b[0m,xTK8QURkbMV3CVT              \n"
      ]
     },
     "metadata": {},
     "output_type": "display_data"
    },
    {
     "data": {
      "text/html": [
       "<pre style=\"white-space:pre;overflow-x:auto;line-height:normal;font-family:Menlo,'DejaVu Sans Mono',consolas,'Courier New',monospace\"><span style=\"color: #7fbfbf; text-decoration-color: #7fbfbf\">                    </span><span style=\"color: #000080; text-decoration-color: #000080\">INFO    </span> create browser:a9ff81bb8ea041578de749bd46914c77                                       \n",
       "</pre>\n"
      ],
      "text/plain": [
       "\u001b[2;36m                   \u001b[0m\u001b[2;36m \u001b[0m\u001b[34mINFO    \u001b[0m create browser:a9ff81bb8ea041578de749bd46914c77                                       \n"
      ]
     },
     "metadata": {},
     "output_type": "display_data"
    },
    {
     "data": {
      "text/html": [
       "<pre style=\"white-space:pre;overflow-x:auto;line-height:normal;font-family:Menlo,'DejaVu Sans Mono',consolas,'Courier New',monospace\"><span style=\"color: #7fbfbf; text-decoration-color: #7fbfbf\">2024/07/25 10:49:45 </span><span style=\"color: #000080; text-decoration-color: #000080\">INFO    </span> connect driver:<span style=\"font-weight: bold\">{</span><span style=\"color: #008000; text-decoration-color: #008000\">'success'</span>: <span style=\"color: #00ff00; text-decoration-color: #00ff00; font-style: italic\">True</span>, <span style=\"color: #008000; text-decoration-color: #008000\">'data'</span>: <span style=\"font-weight: bold\">{</span><span style=\"color: #008000; text-decoration-color: #008000\">'ws'</span>:                                       \n",
       "<span style=\"color: #7fbfbf; text-decoration-color: #7fbfbf\">                    </span>         <span style=\"color: #008000; text-decoration-color: #008000\">'ws://127.0.0.1:51162/devtools/browser/292bbc80-dc20-40b9-9a45-0b1b7d6145f9'</span>, <span style=\"color: #008000; text-decoration-color: #008000\">'http'</span>: \n",
       "<span style=\"color: #7fbfbf; text-decoration-color: #7fbfbf\">                    </span>         <span style=\"color: #008000; text-decoration-color: #008000\">'127.0.0.1:51162'</span>, <span style=\"color: #008000; text-decoration-color: #008000\">'coreVersion'</span>: <span style=\"color: #008000; text-decoration-color: #008000\">'126'</span>, <span style=\"color: #008000; text-decoration-color: #008000\">'driver'</span>:                                    \n",
       "<span style=\"color: #7fbfbf; text-decoration-color: #7fbfbf\">                    </span>         <span style=\"color: #008000; text-decoration-color: #008000\">'C:\\\\Users\\\\lqj\\\\AppData\\\\Roaming\\\\BitBrowser\\\\chromedriver\\\\126\\\\chromedriver.exe'</span>,  \n",
       "<span style=\"color: #7fbfbf; text-decoration-color: #7fbfbf\">                    </span>         <span style=\"color: #008000; text-decoration-color: #008000\">'seq'</span>: <span style=\"color: #008080; text-decoration-color: #008080; font-weight: bold\">92</span>, <span style=\"color: #008000; text-decoration-color: #008000\">'name'</span>: <span style=\"color: #008000; text-decoration-color: #008000\">'facebook-16727961988'</span>, <span style=\"color: #008000; text-decoration-color: #008000\">'remark'</span>:                                  \n",
       "<span style=\"color: #7fbfbf; text-decoration-color: #7fbfbf\">                    </span>         <span style=\"color: #008000; text-decoration-color: #008000\">'16727961988,怡萱,田,2000,3,3,xTK8QURkbMV3CVT'</span>, <span style=\"color: #008000; text-decoration-color: #008000\">'pid'</span>: <span style=\"color: #008080; text-decoration-color: #008080; font-weight: bold\">34780</span><span style=\"font-weight: bold\">}}</span>                        \n",
       "</pre>\n"
      ],
      "text/plain": [
       "\u001b[2;36m2024/07/25 10:49:45\u001b[0m\u001b[2;36m \u001b[0m\u001b[34mINFO    \u001b[0m connect driver:\u001b[1m{\u001b[0m\u001b[32m'success'\u001b[0m: \u001b[3;92mTrue\u001b[0m, \u001b[32m'data'\u001b[0m: \u001b[1m{\u001b[0m\u001b[32m'ws'\u001b[0m:                                       \n",
       "\u001b[2;36m                    \u001b[0m         \u001b[32m'ws://127.0.0.1:51162/devtools/browser/292bbc80-dc20-40b9-9a45-0b1b7d6145f9'\u001b[0m, \u001b[32m'http'\u001b[0m: \n",
       "\u001b[2;36m                    \u001b[0m         \u001b[32m'127.0.0.1:51162'\u001b[0m, \u001b[32m'coreVersion'\u001b[0m: \u001b[32m'126'\u001b[0m, \u001b[32m'driver'\u001b[0m:                                    \n",
       "\u001b[2;36m                    \u001b[0m         \u001b[32m'C:\\\\Users\\\\lqj\\\\AppData\\\\Roaming\\\\BitBrowser\\\\chromedriver\\\\126\\\\chromedriver.exe'\u001b[0m,  \n",
       "\u001b[2;36m                    \u001b[0m         \u001b[32m'seq'\u001b[0m: \u001b[1;36m92\u001b[0m, \u001b[32m'name'\u001b[0m: \u001b[32m'facebook-16727961988'\u001b[0m, \u001b[32m'remark'\u001b[0m:                                  \n",
       "\u001b[2;36m                    \u001b[0m         \u001b[32m'16727961988,怡萱,田,2000,3,3,xTK8QURkbMV3CVT'\u001b[0m, \u001b[32m'pid'\u001b[0m: \u001b[1;36m34780\u001b[0m\u001b[1m}\u001b[0m\u001b[1m}\u001b[0m                        \n"
      ]
     },
     "metadata": {},
     "output_type": "display_data"
    },
    {
     "name": "stdout",
     "output_type": "stream",
     "text": [
      "a9ff81bb8ea041578de749bd46914c77\n"
     ]
    }
   ],
   "source": [
    "from modules.browser_control import BrowserControl\n",
    "from facebook_register import FacebookRegister\n",
    "\n",
    "bc = BrowserControl()\n",
    "fr = FacebookRegister()\n",
    "print(fr.browser_id)"
   ]
  },
  {
   "cell_type": "code",
   "execution_count": 2,
   "metadata": {},
   "outputs": [],
   "source": [
    "fr.driver.get('https://mbasic.facebook.com')"
   ]
  },
  {
   "cell_type": "code",
   "execution_count": 3,
   "metadata": {},
   "outputs": [],
   "source": [
    "\n",
    "from selenium.webdriver.common.by import By\n",
    "helper = fr.helper\n",
    "sign_up_btn = helper.find_or_fail(By.NAME,'sign_up')\n",
    "sign_up_btn.click()\n"
   ]
  },
  {
   "cell_type": "code",
   "execution_count": 4,
   "metadata": {},
   "outputs": [],
   "source": [
    "username_input = helper.find_or_fail(By.NAME,'reg_email__')\n",
    "lastname_input = helper.find_or_fail(By.NAME,'lastname')\n",
    "firstname_input = helper.find_or_fail(By.NAME,'firstname')\n",
    "password_input = helper.find_or_fail(By.NAME,'reg_passwd__')\n",
    "year_choose = helper.find_or_fail(By.NAME,'birthday_year')\n",
    "month_choose = helper.find_or_fail(By.NAME,'birthday_month')\n",
    "day_choose = helper.find_or_fail(By.NAME,'birthday_day')\n",
    "sex_click = helper.find_or_fail(By.NAME,'sex')\n",
    "\n",
    "username_input.send_keys(f'8617148869184')\n",
    "lastname_input.send_keys(f'{fr.lastname}')\n",
    "firstname_input.send_keys(f'{fr.firstname}')\n",
    "password_input.send_keys(f'{fr.fb_password}')\n",
    "year_choose.send_keys(f'{fr.year}')\n",
    "month_choose.send_keys(f'{fr.month}')\n",
    "day_choose.send_keys(f'{fr.day}')\n",
    "sex_click.click()"
   ]
  },
  {
   "cell_type": "code",
   "execution_count": null,
   "metadata": {},
   "outputs": [],
   "source": [
    "fr.sms.get_message()"
   ]
  }
 ],
 "metadata": {
  "kernelspec": {
   "display_name": ".env",
   "language": "python",
   "name": "python3"
  },
  "language_info": {
   "codemirror_mode": {
    "name": "ipython",
    "version": 3
   },
   "file_extension": ".py",
   "mimetype": "text/x-python",
   "name": "python",
   "nbconvert_exporter": "python",
   "pygments_lexer": "ipython3",
   "version": "3.10.9"
  }
 },
 "nbformat": 4,
 "nbformat_minor": 2
}
