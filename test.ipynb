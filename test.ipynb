{
 "cells": [
  {
   "cell_type": "code",
   "execution_count": 44,
   "metadata": {},
   "outputs": [],
   "source": [
    "from selenium import webdriver\n",
    "from selenium.common.exceptions import TimeoutException\n",
    "from selenium.webdriver.common.keys import Keys\n",
    "from selenium.webdriver.chrome.options import Options\n",
    "from bit_api import openBrowser\n",
    "from selenium.webdriver.common.desired_capabilities import DesiredCapabilities\n",
    "from selenium.webdriver.chrome.service import Service\n",
    "from selenium.webdriver.support.ui import WebDriverWait\n",
    "from selenium.webdriver.common.by import By\n",
    "from selenium.webdriver.support import expected_conditions as EC\n",
    "from selenium.webdriver.support.ui import Select\n",
    "import petname\n",
    "\n",
    "# browser_id = createBrowser()\n",
    "browser_id = '142fb8b68f2f4f21a1a12b8784611ef3'\n",
    "\n",
    "# /browser/open 接口会返回 selenium使用的http地址，以及webdriver的path，直接使用即可\n",
    "res = openBrowser('142fb8b68f2f4f21a1a12b8784611ef3') # 窗口ID从窗口配置界面中复制，或者api创建后返回"
   ]
  },
  {
   "cell_type": "code",
   "execution_count": 46,
   "metadata": {},
   "outputs": [],
   "source": [
    "\n",
    "# selenium 连接代码\n",
    "driverPath = res['data']['driver']\n",
    "debuggerAddress = res['data']['http']\n",
    "\n",
    "chrome_options = webdriver.ChromeOptions()\n",
    "chrome_options.add_experimental_option(\"debuggerAddress\", debuggerAddress)\n",
    "\n",
    "chrome_service = Service(driverPath)\n",
    "driver = webdriver.Chrome(service=chrome_service, options=chrome_options)\n",
    "\n",
    "# 以下为PC模式下，打开baidu，输入 BitBrowser，点击搜索的案例\n",
    "driver.get('https://www.facebook.com/')"
   ]
  },
  {
   "cell_type": "code",
   "execution_count": 47,
   "metadata": {},
   "outputs": [],
   "source": [
    "# 等待页面加载并找到按钮元素\n",
    "reg_button = WebDriverWait(driver, 30).until(\n",
    "    EC.presence_of_element_located((By.LINK_TEXT, \"建立新帳戶\"))\n",
    ")\n",
    "\n",
    "reg_button.click()\n"
   ]
  },
  {
   "cell_type": "code",
   "execution_count": 48,
   "metadata": {},
   "outputs": [],
   "source": [
    "\n",
    "username_input = WebDriverWait(driver, 30).until(\n",
    "    EC.presence_of_element_located((By.NAME, \"reg_email__\"))\n",
    ")\n",
    "username_input.send_keys('8618661035719')"
   ]
  },
  {
   "cell_type": "code",
   "execution_count": 49,
   "metadata": {},
   "outputs": [],
   "source": [
    "    \n",
    "import time\n",
    "lastname_input = WebDriverWait(driver, 30).until(\n",
    "    EC.presence_of_element_located((By.NAME, \"lastname\"))\n",
    ")\n",
    "firstname_input = WebDriverWait(driver, 30).until(\n",
    "    EC.presence_of_element_located((By.NAME, \"firstname\"))\n",
    ")\n",
    "lastname_input.send_keys(\"王\")\n",
    "time.sleep(3)\n",
    "firstname_input.send_keys(\"一玲\")"
   ]
  },
  {
   "cell_type": "code",
   "execution_count": 50,
   "metadata": {},
   "outputs": [],
   "source": [
    "    \n",
    "password_input = WebDriverWait(driver, 30).until(\n",
    "    EC.presence_of_element_located((By.NAME, \"reg_passwd__\"))\n",
    ")\n",
    "password_input.send_keys(\"Qiyu22stom2024@\")"
   ]
  },
  {
   "cell_type": "code",
   "execution_count": 51,
   "metadata": {},
   "outputs": [],
   "source": [
    "year_choose = Select(WebDriverWait(driver, 30).until(\n",
    "    EC.presence_of_element_located((By.NAME, \"birthday_year\"))\n",
    "))\n",
    "year_choose.select_by_value('1988')\n",
    "\n",
    "\n",
    "month_choose = Select(WebDriverWait(driver, 30).until(\n",
    "    EC.presence_of_element_located((By.NAME, \"birthday_month\"))\n",
    "))\n",
    "month_choose.select_by_value('5')\n",
    "\n",
    "day_choose = Select(WebDriverWait(driver, 30).until(\n",
    "    EC.presence_of_element_located((By.NAME, \"birthday_day\"))\n",
    "))\n",
    "day_choose.select_by_value('21')"
   ]
  },
  {
   "cell_type": "code",
   "execution_count": 52,
   "metadata": {},
   "outputs": [],
   "source": [
    "\n",
    "sex_click = WebDriverWait(driver, 30).until(\n",
    "    EC.presence_of_element_located((By.NAME, \"sex\"))\n",
    ")\n",
    "sex_click.click()"
   ]
  },
  {
   "cell_type": "code",
   "execution_count": 53,
   "metadata": {},
   "outputs": [],
   "source": [
    "\n",
    "submit_reg = WebDriverWait(driver, 30).until(\n",
    "    EC.presence_of_element_located((By.NAME, \"websubmit\"))\n",
    ")\n",
    "submit_reg.click()\n",
    "\n",
    "\n"
   ]
  },
  {
   "cell_type": "code",
   "execution_count": 43,
   "metadata": {},
   "outputs": [
    {
     "name": "stdout",
     "output_type": "stream",
     "text": [
      "輸入短訊中的確認碼\n"
     ]
    }
   ],
   "source": [
    "\n",
    "reg_tip_span = WebDriverWait(driver, 30).until(\n",
    "    EC.presence_of_element_located((By.CLASS_NAME, \"uiHeaderTitle\"))\n",
    ")\n",
    "tip = reg_tip_span.text\n",
    "print(tip)\n",
    "\n",
    "\n"
   ]
  },
  {
   "cell_type": "code",
   "execution_count": 54,
   "metadata": {},
   "outputs": [],
   "source": [
    "\n",
    "sms_input = WebDriverWait(driver, 30).until(\n",
    "    EC.presence_of_element_located((By.ID, \"code_in_cliff\"))\n",
    ")\n",
    "sms_input.send_keys('76965')\n"
   ]
  },
  {
   "cell_type": "code",
   "execution_count": 56,
   "metadata": {},
   "outputs": [],
   "source": [
    "\n",
    "sms_submit_btn = WebDriverWait(driver, 30).until(\n",
    "    EC.presence_of_element_located((By.NAME, \"confirm\"))\n",
    ")\n",
    "sms_submit_btn.click()"
   ]
  },
  {
   "cell_type": "code",
   "execution_count": null,
   "metadata": {},
   "outputs": [],
   "source": [
    "\n",
    "\n",
    "\n"
   ]
  },
  {
   "cell_type": "code",
   "execution_count": 121,
   "metadata": {},
   "outputs": [],
   "source": [
    "import requests\n",
    "\n",
    "class Sms:\n",
    "    def __init__(self, server_url, username, password,sid = 72510):\n",
    "        self.server_url = server_url\n",
    "        self.username = username\n",
    "        self.password = password\n",
    "        self.sid = 72510\n",
    "        self.token = None\n",
    "        self.login()\n",
    "\n",
    "    def login(self):\n",
    "        url = f\"{self.server_url}/sms/?api=login&user={self.username}&pass={self.password}\"\n",
    "        response = requests.get(url)\n",
    "        data = response.json()\n",
    "        print(data)\n",
    "        if data.get('code') == 0:\n",
    "            self.token = data.get('token')\n",
    "        else:\n",
    "            raise Exception(f\"Login failed: {data.get('msg')}\")\n",
    "\n",
    "    def get_summary(self):\n",
    "        url = f\"{self.server_url}/sms/?api=getSummary&token={self.token}\"\n",
    "        response = requests.get(url)\n",
    "        data = response.json()\n",
    "        print(data)\n",
    "        if data.get('code') == 0:\n",
    "            return data\n",
    "        else:\n",
    "            raise Exception(f\"Failed to get summary: {data.get('msg')}\")\n",
    "\n",
    "    def get_phone(self, isp=None, province=None, ascription=None, paragraph=None, exclude=None, uid=None, author=None):\n",
    "        url = f\"{self.server_url}/sms/?api=getPhone&token={self.token}&sid={self.sid}\"\n",
    "        params = {\n",
    "            'isp': isp,\n",
    "            'Province': province,\n",
    "            'ascription': ascription,\n",
    "            'paragraph': paragraph,\n",
    "            'exclude': exclude,\n",
    "            'uid': uid,\n",
    "            'author': author\n",
    "        }\n",
    "        response = requests.get(url, params={k: v for k, v in params.items() if v is not None})\n",
    "        data = response.json()\n",
    "        print(data)\n",
    "        if data.get('code') == '0':\n",
    "            phone = data.get('phone')\n",
    "            return phone\n",
    "        else:\n",
    "            raise Exception(f\"Failed to get phone: {data.get('msg')}\")\n",
    "\n",
    "    def get_message(self, phone, sid = None):\n",
    "        if not sid:\n",
    "            sid = self.sid\n",
    "        url = f\"{self.server_url}/sms/?api=getMessage&token={self.token}&sid={sid}&phone={phone}\"\n",
    "        response = requests.get(url)\n",
    "        data = response.json()\n",
    "        print(data)\n",
    "        if data.get('code') == \"0\":\n",
    "            return data\n",
    "        elif data.get('code') == -1:\n",
    "            # 等待短信\n",
    "            if data.get('msg')!='等待':\n",
    "                raise Exception(f\"Failed to get message: {data.get('msg')}\")\n",
    "            return data.get('msg')\n",
    "        else:\n",
    "            raise Exception(f\"Failed to get message: {data.get('msg')}\")\n",
    "\n",
    "    def get_message_retry(self, phone, timeout=60, interval=5):\n",
    "        start_time = time.time()\n",
    "        count = 1\n",
    "        while time.time() - start_time < timeout:\n",
    "            url = f\"{self.server_url}/sms/?api=getMessage&token={self.token}&sid={self.sid}&phone={phone}\"\n",
    "            response = requests.get(url)\n",
    "            data = response.json()\n",
    "            print(f\"{phone}-->第{count}次获取手机验证码:{data.get('msg')}\")\n",
    "            if data.get('code') == \"0\":\n",
    "                print(data)\n",
    "                return data\n",
    "            if data.get('code') == -1 and data.get('msg') != '等待':\n",
    "                raise Exception(f\"Failed to get message: {data.get('msg')}\")\n",
    "            time.sleep(interval)\n",
    "        print(f\"{phone}-->获取不到手机验证码\")\n",
    "        raise TimeoutError(\"Failed to get message within the specified timeout period\")\n",
    "\n",
    "    def release_phone(self, phone):\n",
    "        url = f\"{self.server_url}/sms/?api=cancelRecv&token={self.token}&sid={self.sid}&phone={phone}\"\n",
    "        response = requests.get(url)\n",
    "        data = response.json()\n",
    "        if data.get('code') == 0:\n",
    "            return data\n",
    "        else:\n",
    "            raise Exception(f\"Failed to release phone: {data.get('msg')}\")\n",
    "\n",
    "    def release_all_phones(self):\n",
    "        url = f\"{self.server_url}/sms/?api=cancelAllRecv&token={self.token}\"\n",
    "        response = requests.get(url)\n",
    "        data = response.json()\n",
    "        if data.get('code') == 0 or data.get('code') == 200:\n",
    "            return data\n",
    "        else:\n",
    "            raise Exception(f\"Failed to release all phones: {data.get('msg')}\")\n",
    "        \n",
    "\n",
    "    def blacklist_phone(self, phone):\n",
    "        url = f\"{self.server_url}/sms/?api=addBlacklist&token={self.token}&sid={self.sid}&phone={phone}\"\n",
    "        response = requests.get(url)\n",
    "        data = response.json()\n",
    "        if data.get('code') == 0:\n",
    "            return data\n",
    "        else:\n",
    "            raise Exception(f\"Failed to blacklist phone: {data.get('msg')}\")"
   ]
  },
  {
   "cell_type": "code",
   "execution_count": 122,
   "metadata": {},
   "outputs": [
    {
     "name": "stdout",
     "output_type": "stream",
     "text": [
      "{'msg': 'success', 'code': 0, 'token': '8cb2f5bde9e25f07ad768e11b6f0bd44b8103653'}\n",
      "{'msg': None, 'code': 0, 'money': '21.500', 'fanli_rs': 1, 'fanli_je': '0.00', 'num': '50', 'zhekou': '10', 'lx': '开发用户', 'txsr': '0.000', 'ver': '2.0', 'dizhi': 'http://my.haozhuma.com/download/khd/%E8%B1%AA%E7%8C%AA%E7%94%A8%E6%88%B7%E7%AB%AFV2.0.exe', 'log': '豪猪用户端V2.0\\r\\n\\r\\n更新级别：推荐\\r\\n\\r\\n更新内容：修复卡密市场乱码，增加运营商参数显示', 'khd_qz': '1'}\n",
      "Account Summary: {'msg': None, 'code': 0, 'money': '21.500', 'fanli_rs': 1, 'fanli_je': '0.00', 'num': '50', 'zhekou': '10', 'lx': '开发用户', 'txsr': '0.000', 'ver': '2.0', 'dizhi': 'http://my.haozhuma.com/download/khd/%E8%B1%AA%E7%8C%AA%E7%94%A8%E6%88%B7%E7%AB%AFV2.0.exe', 'log': '豪猪用户端V2.0\\r\\n\\r\\n更新级别：推荐\\r\\n\\r\\n更新内容：修复卡密市场乱码，增加运营商参数显示', 'khd_qz': '1'}\n",
      "{'code': '0', 'msg': '成功', 'sid': '72510', 'shop_name': '72510', 'country_name': '中国大陆', 'country_code': 'cn', 'country_qu': '+86', 'uid': '72510-QLYBLE9R77', 'phone': '18601577281', 'sp': '中国联通', 'phone_gsd': '江苏 无锡'}\n",
      "Phone Data: 18601577281\n"
     ]
    }
   ],
   "source": [
    "\n",
    "server_url = \"https://api.haozhuma.com\"\n",
    "username = \"testlinkedin123\"\n",
    "password = \"testlinkedin123a\"\n",
    "\n",
    "sms = Sms(server_url, username, password,sid=72510)\n",
    "\n",
    "try:\n",
    "    summary = sms.get_summary()\n",
    "    print(\"Account Summary:\", summary)\n",
    "    \n",
    "    phone_data = sms.get_phone()\n",
    "    print(\"Phone Data:\", phone_data)\n",
    "    \n",
    "    # message = sms.get_message(sid=1000, phone=phone_data['phone'])\n",
    "    # print(\"Message:\", message)\n",
    "    \n",
    "except Exception as e:\n",
    "    print(e)\n"
   ]
  },
  {
   "cell_type": "code",
   "execution_count": 124,
   "metadata": {},
   "outputs": [
    {
     "name": "stdout",
     "output_type": "stream",
     "text": [
      "{'msg': '等待', 'code': -1, 'time': '2024-07-10 16:21:47'}\n",
      "Message: 等待\n"
     ]
    }
   ],
   "source": [
    "\n",
    "message = sms.get_message(phone=phone_data)\n",
    "print(\"Message:\", message)\n",
    "# data = sms.release_phone(phone_data)\n",
    "# print(\"release:\",data)"
   ]
  },
  {
   "cell_type": "code",
   "execution_count": 125,
   "metadata": {},
   "outputs": [
    {
     "name": "stdout",
     "output_type": "stream",
     "text": [
      "18601577281-->第1次获取手机验证码:等待\n",
      "{'msg': '等待', 'code': -1, 'time': '2024-07-10 16:21:47'}\n",
      "18601577281-->第1次获取手机验证码:等待\n",
      "{'msg': '等待', 'code': -1, 'time': '2024-07-10 16:21:47'}\n",
      "18601577281-->第1次获取手机验证码:等待\n",
      "{'msg': '等待', 'code': -1, 'time': '2024-07-10 16:21:47'}\n",
      "18601577281-->第1次获取手机验证码:等待\n",
      "{'msg': '等待', 'code': -1, 'time': '2024-07-10 16:21:47'}\n",
      "18601577281-->第1次获取手机验证码:等待\n",
      "{'msg': '等待', 'code': -1, 'time': '2024-07-10 16:21:47'}\n",
      "18601577281-->第1次获取手机验证码:等待\n",
      "{'msg': '等待', 'code': -1, 'time': '2024-07-10 16:21:47'}\n",
      "18601577281-->第1次获取手机验证码:等待\n",
      "{'msg': '等待', 'code': -1, 'time': '2024-07-10 16:21:47'}\n",
      "18601577281-->第1次获取手机验证码:等待\n",
      "{'msg': '等待', 'code': -1, 'time': '2024-07-10 16:21:47'}\n",
      "18601577281-->第1次获取手机验证码:等待\n",
      "{'msg': '等待', 'code': -1, 'time': '2024-07-10 16:21:47'}\n",
      "18601577281-->获取不到手机验证码\n"
     ]
    },
    {
     "ename": "TimeoutError",
     "evalue": "Failed to get message within the specified timeout period",
     "output_type": "error",
     "traceback": [
      "\u001b[1;31m---------------------------------------------------------------------------\u001b[0m",
      "\u001b[1;31mTimeoutError\u001b[0m                              Traceback (most recent call last)",
      "Cell \u001b[1;32mIn[125], line 1\u001b[0m\n\u001b[1;32m----> 1\u001b[0m \u001b[43msms\u001b[49m\u001b[38;5;241;43m.\u001b[39;49m\u001b[43mget_message_retry\u001b[49m\u001b[43m(\u001b[49m\u001b[43mphone\u001b[49m\u001b[38;5;241;43m=\u001b[39;49m\u001b[43mphone_data\u001b[49m\u001b[43m)\u001b[49m\n",
      "Cell \u001b[1;32mIn[121], line 84\u001b[0m, in \u001b[0;36mSms.get_message_retry\u001b[1;34m(self, phone, timeout, interval)\u001b[0m\n\u001b[0;32m     82\u001b[0m     time\u001b[38;5;241m.\u001b[39msleep(interval)\n\u001b[0;32m     83\u001b[0m \u001b[38;5;28mprint\u001b[39m(\u001b[38;5;124mf\u001b[39m\u001b[38;5;124m\"\u001b[39m\u001b[38;5;132;01m{\u001b[39;00mphone\u001b[38;5;132;01m}\u001b[39;00m\u001b[38;5;124m-->获取不到手机验证码\u001b[39m\u001b[38;5;124m\"\u001b[39m)\n\u001b[1;32m---> 84\u001b[0m \u001b[38;5;28;01mraise\u001b[39;00m \u001b[38;5;167;01mTimeoutError\u001b[39;00m(\u001b[38;5;124m\"\u001b[39m\u001b[38;5;124mFailed to get message within the specified timeout period\u001b[39m\u001b[38;5;124m\"\u001b[39m)\n",
      "\u001b[1;31mTimeoutError\u001b[0m: Failed to get message within the specified timeout period"
     ]
    }
   ],
   "source": [
    "sms.get_message_retry(phone=phone_data)"
   ]
  }
 ],
 "metadata": {
  "kernelspec": {
   "display_name": ".env",
   "language": "python",
   "name": "python3"
  },
  "language_info": {
   "codemirror_mode": {
    "name": "ipython",
    "version": 3
   },
   "file_extension": ".py",
   "mimetype": "text/x-python",
   "name": "python",
   "nbconvert_exporter": "python",
   "pygments_lexer": "ipython3",
   "version": "3.10.9"
  }
 },
 "nbformat": 4,
 "nbformat_minor": 2
}
